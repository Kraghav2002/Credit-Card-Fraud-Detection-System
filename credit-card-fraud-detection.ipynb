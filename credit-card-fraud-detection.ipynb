{
 "cells": [
  {
   "cell_type": "code",
   "execution_count": 1,
   "id": "fe6ee828",
   "metadata": {
    "_cell_guid": "b1076dfc-b9ad-4769-8c92-a6c4dae69d19",
    "_uuid": "8f2839f25d086af736a60e9eeb907d3b93b6e0e5",
    "execution": {
     "iopub.execute_input": "2024-03-08T12:37:54.556149Z",
     "iopub.status.busy": "2024-03-08T12:37:54.555518Z",
     "iopub.status.idle": "2024-03-08T12:37:55.564431Z",
     "shell.execute_reply": "2024-03-08T12:37:55.563068Z"
    },
    "papermill": {
     "duration": 1.032047,
     "end_time": "2024-03-08T12:37:55.567393",
     "exception": false,
     "start_time": "2024-03-08T12:37:54.535346",
     "status": "completed"
    },
    "tags": []
   },
   "outputs": [
    {
     "name": "stdout",
     "output_type": "stream",
     "text": [
      "/kaggle/input/creditcardfraud/creditcard.csv\n"
     ]
    }
   ],
   "source": [
    "# This Python 3 environment comes with many helpful analytics libraries installed\n",
    "# It is defined by the kaggle/python Docker image: https://github.com/kaggle/docker-python\n",
    "# For example, here's several helpful packages to load\n",
    "\n",
    "import numpy as np # linear algebra\n",
    "import pandas as pd # data processing, CSV file I/O (e.g. pd.read_csv)\n",
    "\n",
    "# Input data files are available in the read-only \"../input/\" directory\n",
    "# For example, running this (by clicking run or pressing Shift+Enter) will list all files under the input directory\n",
    "\n",
    "import os\n",
    "for dirname, _, filenames in os.walk('/kaggle/input'):\n",
    "    for filename in filenames:\n",
    "        print(os.path.join(dirname, filename))\n",
    "\n",
    "# You can write up to 20GB to the current directory (/kaggle/working/) that gets preserved as output when you create a version using \"Save & Run All\" \n",
    "# You can also write temporary files to /kaggle/temp/, but they won't be saved outside of the current session"
   ]
  },
  {
   "cell_type": "code",
   "execution_count": null,
   "id": "1e45317d",
   "metadata": {
    "papermill": {
     "duration": 0.017695,
     "end_time": "2024-03-08T12:37:55.603604",
     "exception": false,
     "start_time": "2024-03-08T12:37:55.585909",
     "status": "completed"
    },
    "tags": []
   },
   "outputs": [],
   "source": []
  },
  {
   "cell_type": "code",
   "execution_count": 2,
   "id": "a55c6a16",
   "metadata": {
    "execution": {
     "iopub.execute_input": "2024-03-08T12:37:55.642773Z",
     "iopub.status.busy": "2024-03-08T12:37:55.641736Z",
     "iopub.status.idle": "2024-03-08T12:37:55.646062Z",
     "shell.execute_reply": "2024-03-08T12:37:55.645343Z"
    },
    "papermill": {
     "duration": 0.025741,
     "end_time": "2024-03-08T12:37:55.647926",
     "exception": false,
     "start_time": "2024-03-08T12:37:55.622185",
     "status": "completed"
    },
    "tags": []
   },
   "outputs": [],
   "source": [
    "import warnings\n",
    "warnings.filterwarnings('ignore')"
   ]
  },
  {
   "cell_type": "code",
   "execution_count": 3,
   "id": "0e15483e",
   "metadata": {
    "execution": {
     "iopub.execute_input": "2024-03-08T12:37:55.686696Z",
     "iopub.status.busy": "2024-03-08T12:37:55.686060Z",
     "iopub.status.idle": "2024-03-08T12:37:59.155829Z",
     "shell.execute_reply": "2024-03-08T12:37:59.154345Z"
    },
    "papermill": {
     "duration": 3.491846,
     "end_time": "2024-03-08T12:37:59.158285",
     "exception": false,
     "start_time": "2024-03-08T12:37:55.666439",
     "status": "completed"
    },
    "tags": []
   },
   "outputs": [],
   "source": [
    "data = pd.read_csv('/kaggle/input/creditcardfraud/creditcard.csv')"
   ]
  },
  {
   "cell_type": "code",
   "execution_count": 4,
   "id": "700964a0",
   "metadata": {
    "execution": {
     "iopub.execute_input": "2024-03-08T12:37:59.196917Z",
     "iopub.status.busy": "2024-03-08T12:37:59.196582Z",
     "iopub.status.idle": "2024-03-08T12:37:59.201826Z",
     "shell.execute_reply": "2024-03-08T12:37:59.200552Z"
    },
    "papermill": {
     "duration": 0.02772,
     "end_time": "2024-03-08T12:37:59.204411",
     "exception": false,
     "start_time": "2024-03-08T12:37:59.176691",
     "status": "completed"
    },
    "tags": []
   },
   "outputs": [],
   "source": [
    "pd.options.display.max_columns = None"
   ]
  },
  {
   "cell_type": "markdown",
   "id": "d36d0759",
   "metadata": {
    "papermill": {
     "duration": 0.018191,
     "end_time": "2024-03-08T12:37:59.299265",
     "exception": false,
     "start_time": "2024-03-08T12:37:59.281074",
     "status": "completed"
    },
    "tags": []
   },
   "source": [
    "# **1. Display Top 5 Rows of The Dataset**"
   ]
  },
  {
   "cell_type": "code",
   "execution_count": 5,
   "id": "bd8d65c0",
   "metadata": {
    "execution": {
     "iopub.execute_input": "2024-03-08T12:37:59.338132Z",
     "iopub.status.busy": "2024-03-08T12:37:59.337765Z",
     "iopub.status.idle": "2024-03-08T12:37:59.375918Z",
     "shell.execute_reply": "2024-03-08T12:37:59.374503Z"
    },
    "papermill": {
     "duration": 0.060344,
     "end_time": "2024-03-08T12:37:59.378255",
     "exception": false,
     "start_time": "2024-03-08T12:37:59.317911",
     "status": "completed"
    },
    "tags": []
   },
   "outputs": [
    {
     "data": {
      "text/html": [
       "<div>\n",
       "<style scoped>\n",
       "    .dataframe tbody tr th:only-of-type {\n",
       "        vertical-align: middle;\n",
       "    }\n",
       "\n",
       "    .dataframe tbody tr th {\n",
       "        vertical-align: top;\n",
       "    }\n",
       "\n",
       "    .dataframe thead th {\n",
       "        text-align: right;\n",
       "    }\n",
       "</style>\n",
       "<table border=\"1\" class=\"dataframe\">\n",
       "  <thead>\n",
       "    <tr style=\"text-align: right;\">\n",
       "      <th></th>\n",
       "      <th>Time</th>\n",
       "      <th>V1</th>\n",
       "      <th>V2</th>\n",
       "      <th>V3</th>\n",
       "      <th>V4</th>\n",
       "      <th>V5</th>\n",
       "      <th>V6</th>\n",
       "      <th>V7</th>\n",
       "      <th>V8</th>\n",
       "      <th>V9</th>\n",
       "      <th>V10</th>\n",
       "      <th>V11</th>\n",
       "      <th>V12</th>\n",
       "      <th>V13</th>\n",
       "      <th>V14</th>\n",
       "      <th>V15</th>\n",
       "      <th>V16</th>\n",
       "      <th>V17</th>\n",
       "      <th>V18</th>\n",
       "      <th>V19</th>\n",
       "      <th>V20</th>\n",
       "      <th>V21</th>\n",
       "      <th>V22</th>\n",
       "      <th>V23</th>\n",
       "      <th>V24</th>\n",
       "      <th>V25</th>\n",
       "      <th>V26</th>\n",
       "      <th>V27</th>\n",
       "      <th>V28</th>\n",
       "      <th>Amount</th>\n",
       "      <th>Class</th>\n",
       "    </tr>\n",
       "  </thead>\n",
       "  <tbody>\n",
       "    <tr>\n",
       "      <th>0</th>\n",
       "      <td>0.0</td>\n",
       "      <td>-1.359807</td>\n",
       "      <td>-0.072781</td>\n",
       "      <td>2.536347</td>\n",
       "      <td>1.378155</td>\n",
       "      <td>-0.338321</td>\n",
       "      <td>0.462388</td>\n",
       "      <td>0.239599</td>\n",
       "      <td>0.098698</td>\n",
       "      <td>0.363787</td>\n",
       "      <td>0.090794</td>\n",
       "      <td>-0.551600</td>\n",
       "      <td>-0.617801</td>\n",
       "      <td>-0.991390</td>\n",
       "      <td>-0.311169</td>\n",
       "      <td>1.468177</td>\n",
       "      <td>-0.470401</td>\n",
       "      <td>0.207971</td>\n",
       "      <td>0.025791</td>\n",
       "      <td>0.403993</td>\n",
       "      <td>0.251412</td>\n",
       "      <td>-0.018307</td>\n",
       "      <td>0.277838</td>\n",
       "      <td>-0.110474</td>\n",
       "      <td>0.066928</td>\n",
       "      <td>0.128539</td>\n",
       "      <td>-0.189115</td>\n",
       "      <td>0.133558</td>\n",
       "      <td>-0.021053</td>\n",
       "      <td>149.62</td>\n",
       "      <td>0</td>\n",
       "    </tr>\n",
       "    <tr>\n",
       "      <th>1</th>\n",
       "      <td>0.0</td>\n",
       "      <td>1.191857</td>\n",
       "      <td>0.266151</td>\n",
       "      <td>0.166480</td>\n",
       "      <td>0.448154</td>\n",
       "      <td>0.060018</td>\n",
       "      <td>-0.082361</td>\n",
       "      <td>-0.078803</td>\n",
       "      <td>0.085102</td>\n",
       "      <td>-0.255425</td>\n",
       "      <td>-0.166974</td>\n",
       "      <td>1.612727</td>\n",
       "      <td>1.065235</td>\n",
       "      <td>0.489095</td>\n",
       "      <td>-0.143772</td>\n",
       "      <td>0.635558</td>\n",
       "      <td>0.463917</td>\n",
       "      <td>-0.114805</td>\n",
       "      <td>-0.183361</td>\n",
       "      <td>-0.145783</td>\n",
       "      <td>-0.069083</td>\n",
       "      <td>-0.225775</td>\n",
       "      <td>-0.638672</td>\n",
       "      <td>0.101288</td>\n",
       "      <td>-0.339846</td>\n",
       "      <td>0.167170</td>\n",
       "      <td>0.125895</td>\n",
       "      <td>-0.008983</td>\n",
       "      <td>0.014724</td>\n",
       "      <td>2.69</td>\n",
       "      <td>0</td>\n",
       "    </tr>\n",
       "    <tr>\n",
       "      <th>2</th>\n",
       "      <td>1.0</td>\n",
       "      <td>-1.358354</td>\n",
       "      <td>-1.340163</td>\n",
       "      <td>1.773209</td>\n",
       "      <td>0.379780</td>\n",
       "      <td>-0.503198</td>\n",
       "      <td>1.800499</td>\n",
       "      <td>0.791461</td>\n",
       "      <td>0.247676</td>\n",
       "      <td>-1.514654</td>\n",
       "      <td>0.207643</td>\n",
       "      <td>0.624501</td>\n",
       "      <td>0.066084</td>\n",
       "      <td>0.717293</td>\n",
       "      <td>-0.165946</td>\n",
       "      <td>2.345865</td>\n",
       "      <td>-2.890083</td>\n",
       "      <td>1.109969</td>\n",
       "      <td>-0.121359</td>\n",
       "      <td>-2.261857</td>\n",
       "      <td>0.524980</td>\n",
       "      <td>0.247998</td>\n",
       "      <td>0.771679</td>\n",
       "      <td>0.909412</td>\n",
       "      <td>-0.689281</td>\n",
       "      <td>-0.327642</td>\n",
       "      <td>-0.139097</td>\n",
       "      <td>-0.055353</td>\n",
       "      <td>-0.059752</td>\n",
       "      <td>378.66</td>\n",
       "      <td>0</td>\n",
       "    </tr>\n",
       "    <tr>\n",
       "      <th>3</th>\n",
       "      <td>1.0</td>\n",
       "      <td>-0.966272</td>\n",
       "      <td>-0.185226</td>\n",
       "      <td>1.792993</td>\n",
       "      <td>-0.863291</td>\n",
       "      <td>-0.010309</td>\n",
       "      <td>1.247203</td>\n",
       "      <td>0.237609</td>\n",
       "      <td>0.377436</td>\n",
       "      <td>-1.387024</td>\n",
       "      <td>-0.054952</td>\n",
       "      <td>-0.226487</td>\n",
       "      <td>0.178228</td>\n",
       "      <td>0.507757</td>\n",
       "      <td>-0.287924</td>\n",
       "      <td>-0.631418</td>\n",
       "      <td>-1.059647</td>\n",
       "      <td>-0.684093</td>\n",
       "      <td>1.965775</td>\n",
       "      <td>-1.232622</td>\n",
       "      <td>-0.208038</td>\n",
       "      <td>-0.108300</td>\n",
       "      <td>0.005274</td>\n",
       "      <td>-0.190321</td>\n",
       "      <td>-1.175575</td>\n",
       "      <td>0.647376</td>\n",
       "      <td>-0.221929</td>\n",
       "      <td>0.062723</td>\n",
       "      <td>0.061458</td>\n",
       "      <td>123.50</td>\n",
       "      <td>0</td>\n",
       "    </tr>\n",
       "    <tr>\n",
       "      <th>4</th>\n",
       "      <td>2.0</td>\n",
       "      <td>-1.158233</td>\n",
       "      <td>0.877737</td>\n",
       "      <td>1.548718</td>\n",
       "      <td>0.403034</td>\n",
       "      <td>-0.407193</td>\n",
       "      <td>0.095921</td>\n",
       "      <td>0.592941</td>\n",
       "      <td>-0.270533</td>\n",
       "      <td>0.817739</td>\n",
       "      <td>0.753074</td>\n",
       "      <td>-0.822843</td>\n",
       "      <td>0.538196</td>\n",
       "      <td>1.345852</td>\n",
       "      <td>-1.119670</td>\n",
       "      <td>0.175121</td>\n",
       "      <td>-0.451449</td>\n",
       "      <td>-0.237033</td>\n",
       "      <td>-0.038195</td>\n",
       "      <td>0.803487</td>\n",
       "      <td>0.408542</td>\n",
       "      <td>-0.009431</td>\n",
       "      <td>0.798278</td>\n",
       "      <td>-0.137458</td>\n",
       "      <td>0.141267</td>\n",
       "      <td>-0.206010</td>\n",
       "      <td>0.502292</td>\n",
       "      <td>0.219422</td>\n",
       "      <td>0.215153</td>\n",
       "      <td>69.99</td>\n",
       "      <td>0</td>\n",
       "    </tr>\n",
       "  </tbody>\n",
       "</table>\n",
       "</div>"
      ],
      "text/plain": [
       "   Time        V1        V2        V3        V4        V5        V6        V7  \\\n",
       "0   0.0 -1.359807 -0.072781  2.536347  1.378155 -0.338321  0.462388  0.239599   \n",
       "1   0.0  1.191857  0.266151  0.166480  0.448154  0.060018 -0.082361 -0.078803   \n",
       "2   1.0 -1.358354 -1.340163  1.773209  0.379780 -0.503198  1.800499  0.791461   \n",
       "3   1.0 -0.966272 -0.185226  1.792993 -0.863291 -0.010309  1.247203  0.237609   \n",
       "4   2.0 -1.158233  0.877737  1.548718  0.403034 -0.407193  0.095921  0.592941   \n",
       "\n",
       "         V8        V9       V10       V11       V12       V13       V14  \\\n",
       "0  0.098698  0.363787  0.090794 -0.551600 -0.617801 -0.991390 -0.311169   \n",
       "1  0.085102 -0.255425 -0.166974  1.612727  1.065235  0.489095 -0.143772   \n",
       "2  0.247676 -1.514654  0.207643  0.624501  0.066084  0.717293 -0.165946   \n",
       "3  0.377436 -1.387024 -0.054952 -0.226487  0.178228  0.507757 -0.287924   \n",
       "4 -0.270533  0.817739  0.753074 -0.822843  0.538196  1.345852 -1.119670   \n",
       "\n",
       "        V15       V16       V17       V18       V19       V20       V21  \\\n",
       "0  1.468177 -0.470401  0.207971  0.025791  0.403993  0.251412 -0.018307   \n",
       "1  0.635558  0.463917 -0.114805 -0.183361 -0.145783 -0.069083 -0.225775   \n",
       "2  2.345865 -2.890083  1.109969 -0.121359 -2.261857  0.524980  0.247998   \n",
       "3 -0.631418 -1.059647 -0.684093  1.965775 -1.232622 -0.208038 -0.108300   \n",
       "4  0.175121 -0.451449 -0.237033 -0.038195  0.803487  0.408542 -0.009431   \n",
       "\n",
       "        V22       V23       V24       V25       V26       V27       V28  \\\n",
       "0  0.277838 -0.110474  0.066928  0.128539 -0.189115  0.133558 -0.021053   \n",
       "1 -0.638672  0.101288 -0.339846  0.167170  0.125895 -0.008983  0.014724   \n",
       "2  0.771679  0.909412 -0.689281 -0.327642 -0.139097 -0.055353 -0.059752   \n",
       "3  0.005274 -0.190321 -1.175575  0.647376 -0.221929  0.062723  0.061458   \n",
       "4  0.798278 -0.137458  0.141267 -0.206010  0.502292  0.219422  0.215153   \n",
       "\n",
       "   Amount  Class  \n",
       "0  149.62      0  \n",
       "1    2.69      0  \n",
       "2  378.66      0  \n",
       "3  123.50      0  \n",
       "4   69.99      0  "
      ]
     },
     "execution_count": 5,
     "metadata": {},
     "output_type": "execute_result"
    }
   ],
   "source": [
    "data.head()"
   ]
  },
  {
   "cell_type": "markdown",
   "id": "fc13d5a8",
   "metadata": {
    "papermill": {
     "duration": 0.01886,
     "end_time": "2024-03-08T12:37:59.415570",
     "exception": false,
     "start_time": "2024-03-08T12:37:59.396710",
     "status": "completed"
    },
    "tags": []
   },
   "source": [
    "# **2. Check Last 5 Rows of The Dataset**"
   ]
  },
  {
   "cell_type": "code",
   "execution_count": 6,
   "id": "ff28e347",
   "metadata": {
    "execution": {
     "iopub.execute_input": "2024-03-08T12:37:59.453764Z",
     "iopub.status.busy": "2024-03-08T12:37:59.453428Z",
     "iopub.status.idle": "2024-03-08T12:37:59.481773Z",
     "shell.execute_reply": "2024-03-08T12:37:59.480325Z"
    },
    "papermill": {
     "duration": 0.049899,
     "end_time": "2024-03-08T12:37:59.484088",
     "exception": false,
     "start_time": "2024-03-08T12:37:59.434189",
     "status": "completed"
    },
    "tags": []
   },
   "outputs": [
    {
     "data": {
      "text/html": [
       "<div>\n",
       "<style scoped>\n",
       "    .dataframe tbody tr th:only-of-type {\n",
       "        vertical-align: middle;\n",
       "    }\n",
       "\n",
       "    .dataframe tbody tr th {\n",
       "        vertical-align: top;\n",
       "    }\n",
       "\n",
       "    .dataframe thead th {\n",
       "        text-align: right;\n",
       "    }\n",
       "</style>\n",
       "<table border=\"1\" class=\"dataframe\">\n",
       "  <thead>\n",
       "    <tr style=\"text-align: right;\">\n",
       "      <th></th>\n",
       "      <th>Time</th>\n",
       "      <th>V1</th>\n",
       "      <th>V2</th>\n",
       "      <th>V3</th>\n",
       "      <th>V4</th>\n",
       "      <th>V5</th>\n",
       "      <th>V6</th>\n",
       "      <th>V7</th>\n",
       "      <th>V8</th>\n",
       "      <th>V9</th>\n",
       "      <th>V10</th>\n",
       "      <th>V11</th>\n",
       "      <th>V12</th>\n",
       "      <th>V13</th>\n",
       "      <th>V14</th>\n",
       "      <th>V15</th>\n",
       "      <th>V16</th>\n",
       "      <th>V17</th>\n",
       "      <th>V18</th>\n",
       "      <th>V19</th>\n",
       "      <th>V20</th>\n",
       "      <th>V21</th>\n",
       "      <th>V22</th>\n",
       "      <th>V23</th>\n",
       "      <th>V24</th>\n",
       "      <th>V25</th>\n",
       "      <th>V26</th>\n",
       "      <th>V27</th>\n",
       "      <th>V28</th>\n",
       "      <th>Amount</th>\n",
       "      <th>Class</th>\n",
       "    </tr>\n",
       "  </thead>\n",
       "  <tbody>\n",
       "    <tr>\n",
       "      <th>284802</th>\n",
       "      <td>172786.0</td>\n",
       "      <td>-11.881118</td>\n",
       "      <td>10.071785</td>\n",
       "      <td>-9.834783</td>\n",
       "      <td>-2.066656</td>\n",
       "      <td>-5.364473</td>\n",
       "      <td>-2.606837</td>\n",
       "      <td>-4.918215</td>\n",
       "      <td>7.305334</td>\n",
       "      <td>1.914428</td>\n",
       "      <td>4.356170</td>\n",
       "      <td>-1.593105</td>\n",
       "      <td>2.711941</td>\n",
       "      <td>-0.689256</td>\n",
       "      <td>4.626942</td>\n",
       "      <td>-0.924459</td>\n",
       "      <td>1.107641</td>\n",
       "      <td>1.991691</td>\n",
       "      <td>0.510632</td>\n",
       "      <td>-0.682920</td>\n",
       "      <td>1.475829</td>\n",
       "      <td>0.213454</td>\n",
       "      <td>0.111864</td>\n",
       "      <td>1.014480</td>\n",
       "      <td>-0.509348</td>\n",
       "      <td>1.436807</td>\n",
       "      <td>0.250034</td>\n",
       "      <td>0.943651</td>\n",
       "      <td>0.823731</td>\n",
       "      <td>0.77</td>\n",
       "      <td>0</td>\n",
       "    </tr>\n",
       "    <tr>\n",
       "      <th>284803</th>\n",
       "      <td>172787.0</td>\n",
       "      <td>-0.732789</td>\n",
       "      <td>-0.055080</td>\n",
       "      <td>2.035030</td>\n",
       "      <td>-0.738589</td>\n",
       "      <td>0.868229</td>\n",
       "      <td>1.058415</td>\n",
       "      <td>0.024330</td>\n",
       "      <td>0.294869</td>\n",
       "      <td>0.584800</td>\n",
       "      <td>-0.975926</td>\n",
       "      <td>-0.150189</td>\n",
       "      <td>0.915802</td>\n",
       "      <td>1.214756</td>\n",
       "      <td>-0.675143</td>\n",
       "      <td>1.164931</td>\n",
       "      <td>-0.711757</td>\n",
       "      <td>-0.025693</td>\n",
       "      <td>-1.221179</td>\n",
       "      <td>-1.545556</td>\n",
       "      <td>0.059616</td>\n",
       "      <td>0.214205</td>\n",
       "      <td>0.924384</td>\n",
       "      <td>0.012463</td>\n",
       "      <td>-1.016226</td>\n",
       "      <td>-0.606624</td>\n",
       "      <td>-0.395255</td>\n",
       "      <td>0.068472</td>\n",
       "      <td>-0.053527</td>\n",
       "      <td>24.79</td>\n",
       "      <td>0</td>\n",
       "    </tr>\n",
       "    <tr>\n",
       "      <th>284804</th>\n",
       "      <td>172788.0</td>\n",
       "      <td>1.919565</td>\n",
       "      <td>-0.301254</td>\n",
       "      <td>-3.249640</td>\n",
       "      <td>-0.557828</td>\n",
       "      <td>2.630515</td>\n",
       "      <td>3.031260</td>\n",
       "      <td>-0.296827</td>\n",
       "      <td>0.708417</td>\n",
       "      <td>0.432454</td>\n",
       "      <td>-0.484782</td>\n",
       "      <td>0.411614</td>\n",
       "      <td>0.063119</td>\n",
       "      <td>-0.183699</td>\n",
       "      <td>-0.510602</td>\n",
       "      <td>1.329284</td>\n",
       "      <td>0.140716</td>\n",
       "      <td>0.313502</td>\n",
       "      <td>0.395652</td>\n",
       "      <td>-0.577252</td>\n",
       "      <td>0.001396</td>\n",
       "      <td>0.232045</td>\n",
       "      <td>0.578229</td>\n",
       "      <td>-0.037501</td>\n",
       "      <td>0.640134</td>\n",
       "      <td>0.265745</td>\n",
       "      <td>-0.087371</td>\n",
       "      <td>0.004455</td>\n",
       "      <td>-0.026561</td>\n",
       "      <td>67.88</td>\n",
       "      <td>0</td>\n",
       "    </tr>\n",
       "    <tr>\n",
       "      <th>284805</th>\n",
       "      <td>172788.0</td>\n",
       "      <td>-0.240440</td>\n",
       "      <td>0.530483</td>\n",
       "      <td>0.702510</td>\n",
       "      <td>0.689799</td>\n",
       "      <td>-0.377961</td>\n",
       "      <td>0.623708</td>\n",
       "      <td>-0.686180</td>\n",
       "      <td>0.679145</td>\n",
       "      <td>0.392087</td>\n",
       "      <td>-0.399126</td>\n",
       "      <td>-1.933849</td>\n",
       "      <td>-0.962886</td>\n",
       "      <td>-1.042082</td>\n",
       "      <td>0.449624</td>\n",
       "      <td>1.962563</td>\n",
       "      <td>-0.608577</td>\n",
       "      <td>0.509928</td>\n",
       "      <td>1.113981</td>\n",
       "      <td>2.897849</td>\n",
       "      <td>0.127434</td>\n",
       "      <td>0.265245</td>\n",
       "      <td>0.800049</td>\n",
       "      <td>-0.163298</td>\n",
       "      <td>0.123205</td>\n",
       "      <td>-0.569159</td>\n",
       "      <td>0.546668</td>\n",
       "      <td>0.108821</td>\n",
       "      <td>0.104533</td>\n",
       "      <td>10.00</td>\n",
       "      <td>0</td>\n",
       "    </tr>\n",
       "    <tr>\n",
       "      <th>284806</th>\n",
       "      <td>172792.0</td>\n",
       "      <td>-0.533413</td>\n",
       "      <td>-0.189733</td>\n",
       "      <td>0.703337</td>\n",
       "      <td>-0.506271</td>\n",
       "      <td>-0.012546</td>\n",
       "      <td>-0.649617</td>\n",
       "      <td>1.577006</td>\n",
       "      <td>-0.414650</td>\n",
       "      <td>0.486180</td>\n",
       "      <td>-0.915427</td>\n",
       "      <td>-1.040458</td>\n",
       "      <td>-0.031513</td>\n",
       "      <td>-0.188093</td>\n",
       "      <td>-0.084316</td>\n",
       "      <td>0.041333</td>\n",
       "      <td>-0.302620</td>\n",
       "      <td>-0.660377</td>\n",
       "      <td>0.167430</td>\n",
       "      <td>-0.256117</td>\n",
       "      <td>0.382948</td>\n",
       "      <td>0.261057</td>\n",
       "      <td>0.643078</td>\n",
       "      <td>0.376777</td>\n",
       "      <td>0.008797</td>\n",
       "      <td>-0.473649</td>\n",
       "      <td>-0.818267</td>\n",
       "      <td>-0.002415</td>\n",
       "      <td>0.013649</td>\n",
       "      <td>217.00</td>\n",
       "      <td>0</td>\n",
       "    </tr>\n",
       "  </tbody>\n",
       "</table>\n",
       "</div>"
      ],
      "text/plain": [
       "            Time         V1         V2        V3        V4        V5  \\\n",
       "284802  172786.0 -11.881118  10.071785 -9.834783 -2.066656 -5.364473   \n",
       "284803  172787.0  -0.732789  -0.055080  2.035030 -0.738589  0.868229   \n",
       "284804  172788.0   1.919565  -0.301254 -3.249640 -0.557828  2.630515   \n",
       "284805  172788.0  -0.240440   0.530483  0.702510  0.689799 -0.377961   \n",
       "284806  172792.0  -0.533413  -0.189733  0.703337 -0.506271 -0.012546   \n",
       "\n",
       "              V6        V7        V8        V9       V10       V11       V12  \\\n",
       "284802 -2.606837 -4.918215  7.305334  1.914428  4.356170 -1.593105  2.711941   \n",
       "284803  1.058415  0.024330  0.294869  0.584800 -0.975926 -0.150189  0.915802   \n",
       "284804  3.031260 -0.296827  0.708417  0.432454 -0.484782  0.411614  0.063119   \n",
       "284805  0.623708 -0.686180  0.679145  0.392087 -0.399126 -1.933849 -0.962886   \n",
       "284806 -0.649617  1.577006 -0.414650  0.486180 -0.915427 -1.040458 -0.031513   \n",
       "\n",
       "             V13       V14       V15       V16       V17       V18       V19  \\\n",
       "284802 -0.689256  4.626942 -0.924459  1.107641  1.991691  0.510632 -0.682920   \n",
       "284803  1.214756 -0.675143  1.164931 -0.711757 -0.025693 -1.221179 -1.545556   \n",
       "284804 -0.183699 -0.510602  1.329284  0.140716  0.313502  0.395652 -0.577252   \n",
       "284805 -1.042082  0.449624  1.962563 -0.608577  0.509928  1.113981  2.897849   \n",
       "284806 -0.188093 -0.084316  0.041333 -0.302620 -0.660377  0.167430 -0.256117   \n",
       "\n",
       "             V20       V21       V22       V23       V24       V25       V26  \\\n",
       "284802  1.475829  0.213454  0.111864  1.014480 -0.509348  1.436807  0.250034   \n",
       "284803  0.059616  0.214205  0.924384  0.012463 -1.016226 -0.606624 -0.395255   \n",
       "284804  0.001396  0.232045  0.578229 -0.037501  0.640134  0.265745 -0.087371   \n",
       "284805  0.127434  0.265245  0.800049 -0.163298  0.123205 -0.569159  0.546668   \n",
       "284806  0.382948  0.261057  0.643078  0.376777  0.008797 -0.473649 -0.818267   \n",
       "\n",
       "             V27       V28  Amount  Class  \n",
       "284802  0.943651  0.823731    0.77      0  \n",
       "284803  0.068472 -0.053527   24.79      0  \n",
       "284804  0.004455 -0.026561   67.88      0  \n",
       "284805  0.108821  0.104533   10.00      0  \n",
       "284806 -0.002415  0.013649  217.00      0  "
      ]
     },
     "execution_count": 6,
     "metadata": {},
     "output_type": "execute_result"
    }
   ],
   "source": [
    "data.tail()"
   ]
  },
  {
   "cell_type": "markdown",
   "id": "c9eba036",
   "metadata": {
    "papermill": {
     "duration": 0.019083,
     "end_time": "2024-03-08T12:37:59.522417",
     "exception": false,
     "start_time": "2024-03-08T12:37:59.503334",
     "status": "completed"
    },
    "tags": []
   },
   "source": [
    "# **3. Find Shape of Our Dataset (Number of Rows And Number of Columns)**"
   ]
  },
  {
   "cell_type": "code",
   "execution_count": 7,
   "id": "4b35a349",
   "metadata": {
    "execution": {
     "iopub.execute_input": "2024-03-08T12:37:59.563436Z",
     "iopub.status.busy": "2024-03-08T12:37:59.563070Z",
     "iopub.status.idle": "2024-03-08T12:37:59.570860Z",
     "shell.execute_reply": "2024-03-08T12:37:59.569245Z"
    },
    "papermill": {
     "duration": 0.031588,
     "end_time": "2024-03-08T12:37:59.573487",
     "exception": false,
     "start_time": "2024-03-08T12:37:59.541899",
     "status": "completed"
    },
    "tags": []
   },
   "outputs": [
    {
     "data": {
      "text/plain": [
       "(284807, 31)"
      ]
     },
     "execution_count": 7,
     "metadata": {},
     "output_type": "execute_result"
    }
   ],
   "source": [
    "data.shape"
   ]
  },
  {
   "cell_type": "code",
   "execution_count": 8,
   "id": "579ad9ca",
   "metadata": {
    "execution": {
     "iopub.execute_input": "2024-03-08T12:37:59.614332Z",
     "iopub.status.busy": "2024-03-08T12:37:59.613948Z",
     "iopub.status.idle": "2024-03-08T12:37:59.620866Z",
     "shell.execute_reply": "2024-03-08T12:37:59.618558Z"
    },
    "papermill": {
     "duration": 0.030263,
     "end_time": "2024-03-08T12:37:59.623144",
     "exception": false,
     "start_time": "2024-03-08T12:37:59.592881",
     "status": "completed"
    },
    "tags": []
   },
   "outputs": [
    {
     "name": "stdout",
     "output_type": "stream",
     "text": [
      "Number of Rows 284807\n",
      "Number of Columns 31\n"
     ]
    }
   ],
   "source": [
    "print(\"Number of Rows\",data.shape[0])\n",
    "print(\"Number of Columns\",data.shape[1])"
   ]
  },
  {
   "cell_type": "markdown",
   "id": "2fc270f4",
   "metadata": {
    "papermill": {
     "duration": 0.01931,
     "end_time": "2024-03-08T12:37:59.662022",
     "exception": false,
     "start_time": "2024-03-08T12:37:59.642712",
     "status": "completed"
    },
    "tags": []
   },
   "source": [
    "# **4. Get Information About Our Dataset Like Total Number Rows, Total Number of Columns, Datatypes of Each Column And Memory Requirement**"
   ]
  },
  {
   "cell_type": "code",
   "execution_count": 9,
   "id": "ff9ef0c8",
   "metadata": {
    "execution": {
     "iopub.execute_input": "2024-03-08T12:37:59.702305Z",
     "iopub.status.busy": "2024-03-08T12:37:59.701946Z",
     "iopub.status.idle": "2024-03-08T12:37:59.740654Z",
     "shell.execute_reply": "2024-03-08T12:37:59.739526Z"
    },
    "papermill": {
     "duration": 0.061186,
     "end_time": "2024-03-08T12:37:59.742667",
     "exception": false,
     "start_time": "2024-03-08T12:37:59.681481",
     "status": "completed"
    },
    "tags": []
   },
   "outputs": [
    {
     "name": "stdout",
     "output_type": "stream",
     "text": [
      "<class 'pandas.core.frame.DataFrame'>\n",
      "RangeIndex: 284807 entries, 0 to 284806\n",
      "Data columns (total 31 columns):\n",
      " #   Column  Non-Null Count   Dtype  \n",
      "---  ------  --------------   -----  \n",
      " 0   Time    284807 non-null  float64\n",
      " 1   V1      284807 non-null  float64\n",
      " 2   V2      284807 non-null  float64\n",
      " 3   V3      284807 non-null  float64\n",
      " 4   V4      284807 non-null  float64\n",
      " 5   V5      284807 non-null  float64\n",
      " 6   V6      284807 non-null  float64\n",
      " 7   V7      284807 non-null  float64\n",
      " 8   V8      284807 non-null  float64\n",
      " 9   V9      284807 non-null  float64\n",
      " 10  V10     284807 non-null  float64\n",
      " 11  V11     284807 non-null  float64\n",
      " 12  V12     284807 non-null  float64\n",
      " 13  V13     284807 non-null  float64\n",
      " 14  V14     284807 non-null  float64\n",
      " 15  V15     284807 non-null  float64\n",
      " 16  V16     284807 non-null  float64\n",
      " 17  V17     284807 non-null  float64\n",
      " 18  V18     284807 non-null  float64\n",
      " 19  V19     284807 non-null  float64\n",
      " 20  V20     284807 non-null  float64\n",
      " 21  V21     284807 non-null  float64\n",
      " 22  V22     284807 non-null  float64\n",
      " 23  V23     284807 non-null  float64\n",
      " 24  V24     284807 non-null  float64\n",
      " 25  V25     284807 non-null  float64\n",
      " 26  V26     284807 non-null  float64\n",
      " 27  V27     284807 non-null  float64\n",
      " 28  V28     284807 non-null  float64\n",
      " 29  Amount  284807 non-null  float64\n",
      " 30  Class   284807 non-null  int64  \n",
      "dtypes: float64(30), int64(1)\n",
      "memory usage: 67.4 MB\n"
     ]
    }
   ],
   "source": [
    "data.info()"
   ]
  },
  {
   "cell_type": "markdown",
   "id": "fb35790a",
   "metadata": {
    "papermill": {
     "duration": 0.019843,
     "end_time": "2024-03-08T12:37:59.782404",
     "exception": false,
     "start_time": "2024-03-08T12:37:59.762561",
     "status": "completed"
    },
    "tags": []
   },
   "source": [
    "# **5. Check Null Values In The Dataset**"
   ]
  },
  {
   "cell_type": "code",
   "execution_count": 10,
   "id": "47400c03",
   "metadata": {
    "execution": {
     "iopub.execute_input": "2024-03-08T12:37:59.824122Z",
     "iopub.status.busy": "2024-03-08T12:37:59.823707Z",
     "iopub.status.idle": "2024-03-08T12:37:59.840021Z",
     "shell.execute_reply": "2024-03-08T12:37:59.838929Z"
    },
    "papermill": {
     "duration": 0.039501,
     "end_time": "2024-03-08T12:37:59.841922",
     "exception": false,
     "start_time": "2024-03-08T12:37:59.802421",
     "status": "completed"
    },
    "tags": []
   },
   "outputs": [
    {
     "data": {
      "text/plain": [
       "Time      0\n",
       "V1        0\n",
       "V2        0\n",
       "V3        0\n",
       "V4        0\n",
       "V5        0\n",
       "V6        0\n",
       "V7        0\n",
       "V8        0\n",
       "V9        0\n",
       "V10       0\n",
       "V11       0\n",
       "V12       0\n",
       "V13       0\n",
       "V14       0\n",
       "V15       0\n",
       "V16       0\n",
       "V17       0\n",
       "V18       0\n",
       "V19       0\n",
       "V20       0\n",
       "V21       0\n",
       "V22       0\n",
       "V23       0\n",
       "V24       0\n",
       "V25       0\n",
       "V26       0\n",
       "V27       0\n",
       "V28       0\n",
       "Amount    0\n",
       "Class     0\n",
       "dtype: int64"
      ]
     },
     "execution_count": 10,
     "metadata": {},
     "output_type": "execute_result"
    }
   ],
   "source": [
    "data.isnull().sum()"
   ]
  },
  {
   "cell_type": "markdown",
   "id": "ab2a3b66",
   "metadata": {
    "papermill": {
     "duration": 0.019678,
     "end_time": "2024-03-08T12:37:59.881049",
     "exception": false,
     "start_time": "2024-03-08T12:37:59.861371",
     "status": "completed"
    },
    "tags": []
   },
   "source": [
    "# **Feature Scaling**"
   ]
  },
  {
   "cell_type": "code",
   "execution_count": 11,
   "id": "41f9df41",
   "metadata": {
    "execution": {
     "iopub.execute_input": "2024-03-08T12:37:59.922410Z",
     "iopub.status.busy": "2024-03-08T12:37:59.922083Z",
     "iopub.status.idle": "2024-03-08T12:38:01.281529Z",
     "shell.execute_reply": "2024-03-08T12:38:01.280787Z"
    },
    "papermill": {
     "duration": 1.383075,
     "end_time": "2024-03-08T12:38:01.283899",
     "exception": false,
     "start_time": "2024-03-08T12:37:59.900824",
     "status": "completed"
    },
    "tags": []
   },
   "outputs": [],
   "source": [
    "from sklearn.preprocessing import StandardScaler"
   ]
  },
  {
   "cell_type": "code",
   "execution_count": 12,
   "id": "400b9ebc",
   "metadata": {
    "execution": {
     "iopub.execute_input": "2024-03-08T12:38:01.325297Z",
     "iopub.status.busy": "2024-03-08T12:38:01.324735Z",
     "iopub.status.idle": "2024-03-08T12:38:01.336489Z",
     "shell.execute_reply": "2024-03-08T12:38:01.335318Z"
    },
    "papermill": {
     "duration": 0.035717,
     "end_time": "2024-03-08T12:38:01.339328",
     "exception": false,
     "start_time": "2024-03-08T12:38:01.303611",
     "status": "completed"
    },
    "tags": []
   },
   "outputs": [],
   "source": [
    "sc = StandardScaler()\n",
    "data['Amount']=sc.fit_transform(pd.DataFrame(data['Amount']))"
   ]
  },
  {
   "cell_type": "code",
   "execution_count": 13,
   "id": "9f006f55",
   "metadata": {
    "execution": {
     "iopub.execute_input": "2024-03-08T12:38:01.381204Z",
     "iopub.status.busy": "2024-03-08T12:38:01.380788Z",
     "iopub.status.idle": "2024-03-08T12:38:01.408618Z",
     "shell.execute_reply": "2024-03-08T12:38:01.407170Z"
    },
    "papermill": {
     "duration": 0.051659,
     "end_time": "2024-03-08T12:38:01.411234",
     "exception": false,
     "start_time": "2024-03-08T12:38:01.359575",
     "status": "completed"
    },
    "tags": []
   },
   "outputs": [
    {
     "data": {
      "text/html": [
       "<div>\n",
       "<style scoped>\n",
       "    .dataframe tbody tr th:only-of-type {\n",
       "        vertical-align: middle;\n",
       "    }\n",
       "\n",
       "    .dataframe tbody tr th {\n",
       "        vertical-align: top;\n",
       "    }\n",
       "\n",
       "    .dataframe thead th {\n",
       "        text-align: right;\n",
       "    }\n",
       "</style>\n",
       "<table border=\"1\" class=\"dataframe\">\n",
       "  <thead>\n",
       "    <tr style=\"text-align: right;\">\n",
       "      <th></th>\n",
       "      <th>Time</th>\n",
       "      <th>V1</th>\n",
       "      <th>V2</th>\n",
       "      <th>V3</th>\n",
       "      <th>V4</th>\n",
       "      <th>V5</th>\n",
       "      <th>V6</th>\n",
       "      <th>V7</th>\n",
       "      <th>V8</th>\n",
       "      <th>V9</th>\n",
       "      <th>V10</th>\n",
       "      <th>V11</th>\n",
       "      <th>V12</th>\n",
       "      <th>V13</th>\n",
       "      <th>V14</th>\n",
       "      <th>V15</th>\n",
       "      <th>V16</th>\n",
       "      <th>V17</th>\n",
       "      <th>V18</th>\n",
       "      <th>V19</th>\n",
       "      <th>V20</th>\n",
       "      <th>V21</th>\n",
       "      <th>V22</th>\n",
       "      <th>V23</th>\n",
       "      <th>V24</th>\n",
       "      <th>V25</th>\n",
       "      <th>V26</th>\n",
       "      <th>V27</th>\n",
       "      <th>V28</th>\n",
       "      <th>Amount</th>\n",
       "      <th>Class</th>\n",
       "    </tr>\n",
       "  </thead>\n",
       "  <tbody>\n",
       "    <tr>\n",
       "      <th>0</th>\n",
       "      <td>0.0</td>\n",
       "      <td>-1.359807</td>\n",
       "      <td>-0.072781</td>\n",
       "      <td>2.536347</td>\n",
       "      <td>1.378155</td>\n",
       "      <td>-0.338321</td>\n",
       "      <td>0.462388</td>\n",
       "      <td>0.239599</td>\n",
       "      <td>0.098698</td>\n",
       "      <td>0.363787</td>\n",
       "      <td>0.090794</td>\n",
       "      <td>-0.551600</td>\n",
       "      <td>-0.617801</td>\n",
       "      <td>-0.991390</td>\n",
       "      <td>-0.311169</td>\n",
       "      <td>1.468177</td>\n",
       "      <td>-0.470401</td>\n",
       "      <td>0.207971</td>\n",
       "      <td>0.025791</td>\n",
       "      <td>0.403993</td>\n",
       "      <td>0.251412</td>\n",
       "      <td>-0.018307</td>\n",
       "      <td>0.277838</td>\n",
       "      <td>-0.110474</td>\n",
       "      <td>0.066928</td>\n",
       "      <td>0.128539</td>\n",
       "      <td>-0.189115</td>\n",
       "      <td>0.133558</td>\n",
       "      <td>-0.021053</td>\n",
       "      <td>0.244964</td>\n",
       "      <td>0</td>\n",
       "    </tr>\n",
       "    <tr>\n",
       "      <th>1</th>\n",
       "      <td>0.0</td>\n",
       "      <td>1.191857</td>\n",
       "      <td>0.266151</td>\n",
       "      <td>0.166480</td>\n",
       "      <td>0.448154</td>\n",
       "      <td>0.060018</td>\n",
       "      <td>-0.082361</td>\n",
       "      <td>-0.078803</td>\n",
       "      <td>0.085102</td>\n",
       "      <td>-0.255425</td>\n",
       "      <td>-0.166974</td>\n",
       "      <td>1.612727</td>\n",
       "      <td>1.065235</td>\n",
       "      <td>0.489095</td>\n",
       "      <td>-0.143772</td>\n",
       "      <td>0.635558</td>\n",
       "      <td>0.463917</td>\n",
       "      <td>-0.114805</td>\n",
       "      <td>-0.183361</td>\n",
       "      <td>-0.145783</td>\n",
       "      <td>-0.069083</td>\n",
       "      <td>-0.225775</td>\n",
       "      <td>-0.638672</td>\n",
       "      <td>0.101288</td>\n",
       "      <td>-0.339846</td>\n",
       "      <td>0.167170</td>\n",
       "      <td>0.125895</td>\n",
       "      <td>-0.008983</td>\n",
       "      <td>0.014724</td>\n",
       "      <td>-0.342475</td>\n",
       "      <td>0</td>\n",
       "    </tr>\n",
       "    <tr>\n",
       "      <th>2</th>\n",
       "      <td>1.0</td>\n",
       "      <td>-1.358354</td>\n",
       "      <td>-1.340163</td>\n",
       "      <td>1.773209</td>\n",
       "      <td>0.379780</td>\n",
       "      <td>-0.503198</td>\n",
       "      <td>1.800499</td>\n",
       "      <td>0.791461</td>\n",
       "      <td>0.247676</td>\n",
       "      <td>-1.514654</td>\n",
       "      <td>0.207643</td>\n",
       "      <td>0.624501</td>\n",
       "      <td>0.066084</td>\n",
       "      <td>0.717293</td>\n",
       "      <td>-0.165946</td>\n",
       "      <td>2.345865</td>\n",
       "      <td>-2.890083</td>\n",
       "      <td>1.109969</td>\n",
       "      <td>-0.121359</td>\n",
       "      <td>-2.261857</td>\n",
       "      <td>0.524980</td>\n",
       "      <td>0.247998</td>\n",
       "      <td>0.771679</td>\n",
       "      <td>0.909412</td>\n",
       "      <td>-0.689281</td>\n",
       "      <td>-0.327642</td>\n",
       "      <td>-0.139097</td>\n",
       "      <td>-0.055353</td>\n",
       "      <td>-0.059752</td>\n",
       "      <td>1.160686</td>\n",
       "      <td>0</td>\n",
       "    </tr>\n",
       "    <tr>\n",
       "      <th>3</th>\n",
       "      <td>1.0</td>\n",
       "      <td>-0.966272</td>\n",
       "      <td>-0.185226</td>\n",
       "      <td>1.792993</td>\n",
       "      <td>-0.863291</td>\n",
       "      <td>-0.010309</td>\n",
       "      <td>1.247203</td>\n",
       "      <td>0.237609</td>\n",
       "      <td>0.377436</td>\n",
       "      <td>-1.387024</td>\n",
       "      <td>-0.054952</td>\n",
       "      <td>-0.226487</td>\n",
       "      <td>0.178228</td>\n",
       "      <td>0.507757</td>\n",
       "      <td>-0.287924</td>\n",
       "      <td>-0.631418</td>\n",
       "      <td>-1.059647</td>\n",
       "      <td>-0.684093</td>\n",
       "      <td>1.965775</td>\n",
       "      <td>-1.232622</td>\n",
       "      <td>-0.208038</td>\n",
       "      <td>-0.108300</td>\n",
       "      <td>0.005274</td>\n",
       "      <td>-0.190321</td>\n",
       "      <td>-1.175575</td>\n",
       "      <td>0.647376</td>\n",
       "      <td>-0.221929</td>\n",
       "      <td>0.062723</td>\n",
       "      <td>0.061458</td>\n",
       "      <td>0.140534</td>\n",
       "      <td>0</td>\n",
       "    </tr>\n",
       "    <tr>\n",
       "      <th>4</th>\n",
       "      <td>2.0</td>\n",
       "      <td>-1.158233</td>\n",
       "      <td>0.877737</td>\n",
       "      <td>1.548718</td>\n",
       "      <td>0.403034</td>\n",
       "      <td>-0.407193</td>\n",
       "      <td>0.095921</td>\n",
       "      <td>0.592941</td>\n",
       "      <td>-0.270533</td>\n",
       "      <td>0.817739</td>\n",
       "      <td>0.753074</td>\n",
       "      <td>-0.822843</td>\n",
       "      <td>0.538196</td>\n",
       "      <td>1.345852</td>\n",
       "      <td>-1.119670</td>\n",
       "      <td>0.175121</td>\n",
       "      <td>-0.451449</td>\n",
       "      <td>-0.237033</td>\n",
       "      <td>-0.038195</td>\n",
       "      <td>0.803487</td>\n",
       "      <td>0.408542</td>\n",
       "      <td>-0.009431</td>\n",
       "      <td>0.798278</td>\n",
       "      <td>-0.137458</td>\n",
       "      <td>0.141267</td>\n",
       "      <td>-0.206010</td>\n",
       "      <td>0.502292</td>\n",
       "      <td>0.219422</td>\n",
       "      <td>0.215153</td>\n",
       "      <td>-0.073403</td>\n",
       "      <td>0</td>\n",
       "    </tr>\n",
       "  </tbody>\n",
       "</table>\n",
       "</div>"
      ],
      "text/plain": [
       "   Time        V1        V2        V3        V4        V5        V6        V7  \\\n",
       "0   0.0 -1.359807 -0.072781  2.536347  1.378155 -0.338321  0.462388  0.239599   \n",
       "1   0.0  1.191857  0.266151  0.166480  0.448154  0.060018 -0.082361 -0.078803   \n",
       "2   1.0 -1.358354 -1.340163  1.773209  0.379780 -0.503198  1.800499  0.791461   \n",
       "3   1.0 -0.966272 -0.185226  1.792993 -0.863291 -0.010309  1.247203  0.237609   \n",
       "4   2.0 -1.158233  0.877737  1.548718  0.403034 -0.407193  0.095921  0.592941   \n",
       "\n",
       "         V8        V9       V10       V11       V12       V13       V14  \\\n",
       "0  0.098698  0.363787  0.090794 -0.551600 -0.617801 -0.991390 -0.311169   \n",
       "1  0.085102 -0.255425 -0.166974  1.612727  1.065235  0.489095 -0.143772   \n",
       "2  0.247676 -1.514654  0.207643  0.624501  0.066084  0.717293 -0.165946   \n",
       "3  0.377436 -1.387024 -0.054952 -0.226487  0.178228  0.507757 -0.287924   \n",
       "4 -0.270533  0.817739  0.753074 -0.822843  0.538196  1.345852 -1.119670   \n",
       "\n",
       "        V15       V16       V17       V18       V19       V20       V21  \\\n",
       "0  1.468177 -0.470401  0.207971  0.025791  0.403993  0.251412 -0.018307   \n",
       "1  0.635558  0.463917 -0.114805 -0.183361 -0.145783 -0.069083 -0.225775   \n",
       "2  2.345865 -2.890083  1.109969 -0.121359 -2.261857  0.524980  0.247998   \n",
       "3 -0.631418 -1.059647 -0.684093  1.965775 -1.232622 -0.208038 -0.108300   \n",
       "4  0.175121 -0.451449 -0.237033 -0.038195  0.803487  0.408542 -0.009431   \n",
       "\n",
       "        V22       V23       V24       V25       V26       V27       V28  \\\n",
       "0  0.277838 -0.110474  0.066928  0.128539 -0.189115  0.133558 -0.021053   \n",
       "1 -0.638672  0.101288 -0.339846  0.167170  0.125895 -0.008983  0.014724   \n",
       "2  0.771679  0.909412 -0.689281 -0.327642 -0.139097 -0.055353 -0.059752   \n",
       "3  0.005274 -0.190321 -1.175575  0.647376 -0.221929  0.062723  0.061458   \n",
       "4  0.798278 -0.137458  0.141267 -0.206010  0.502292  0.219422  0.215153   \n",
       "\n",
       "     Amount  Class  \n",
       "0  0.244964      0  \n",
       "1 -0.342475      0  \n",
       "2  1.160686      0  \n",
       "3  0.140534      0  \n",
       "4 -0.073403      0  "
      ]
     },
     "execution_count": 13,
     "metadata": {},
     "output_type": "execute_result"
    }
   ],
   "source": [
    "data.head()"
   ]
  },
  {
   "cell_type": "code",
   "execution_count": 14,
   "id": "08e12213",
   "metadata": {
    "execution": {
     "iopub.execute_input": "2024-03-08T12:38:01.453522Z",
     "iopub.status.busy": "2024-03-08T12:38:01.453137Z",
     "iopub.status.idle": "2024-03-08T12:38:01.475313Z",
     "shell.execute_reply": "2024-03-08T12:38:01.474315Z"
    },
    "papermill": {
     "duration": 0.046249,
     "end_time": "2024-03-08T12:38:01.477762",
     "exception": false,
     "start_time": "2024-03-08T12:38:01.431513",
     "status": "completed"
    },
    "tags": []
   },
   "outputs": [],
   "source": [
    "data = data.drop(['Time'],axis=1)"
   ]
  },
  {
   "cell_type": "code",
   "execution_count": 15,
   "id": "c5747657",
   "metadata": {
    "execution": {
     "iopub.execute_input": "2024-03-08T12:38:01.519573Z",
     "iopub.status.busy": "2024-03-08T12:38:01.519184Z",
     "iopub.status.idle": "2024-03-08T12:38:01.545051Z",
     "shell.execute_reply": "2024-03-08T12:38:01.543579Z"
    },
    "papermill": {
     "duration": 0.049163,
     "end_time": "2024-03-08T12:38:01.546986",
     "exception": false,
     "start_time": "2024-03-08T12:38:01.497823",
     "status": "completed"
    },
    "tags": []
   },
   "outputs": [
    {
     "data": {
      "text/html": [
       "<div>\n",
       "<style scoped>\n",
       "    .dataframe tbody tr th:only-of-type {\n",
       "        vertical-align: middle;\n",
       "    }\n",
       "\n",
       "    .dataframe tbody tr th {\n",
       "        vertical-align: top;\n",
       "    }\n",
       "\n",
       "    .dataframe thead th {\n",
       "        text-align: right;\n",
       "    }\n",
       "</style>\n",
       "<table border=\"1\" class=\"dataframe\">\n",
       "  <thead>\n",
       "    <tr style=\"text-align: right;\">\n",
       "      <th></th>\n",
       "      <th>V1</th>\n",
       "      <th>V2</th>\n",
       "      <th>V3</th>\n",
       "      <th>V4</th>\n",
       "      <th>V5</th>\n",
       "      <th>V6</th>\n",
       "      <th>V7</th>\n",
       "      <th>V8</th>\n",
       "      <th>V9</th>\n",
       "      <th>V10</th>\n",
       "      <th>V11</th>\n",
       "      <th>V12</th>\n",
       "      <th>V13</th>\n",
       "      <th>V14</th>\n",
       "      <th>V15</th>\n",
       "      <th>V16</th>\n",
       "      <th>V17</th>\n",
       "      <th>V18</th>\n",
       "      <th>V19</th>\n",
       "      <th>V20</th>\n",
       "      <th>V21</th>\n",
       "      <th>V22</th>\n",
       "      <th>V23</th>\n",
       "      <th>V24</th>\n",
       "      <th>V25</th>\n",
       "      <th>V26</th>\n",
       "      <th>V27</th>\n",
       "      <th>V28</th>\n",
       "      <th>Amount</th>\n",
       "      <th>Class</th>\n",
       "    </tr>\n",
       "  </thead>\n",
       "  <tbody>\n",
       "    <tr>\n",
       "      <th>0</th>\n",
       "      <td>-1.359807</td>\n",
       "      <td>-0.072781</td>\n",
       "      <td>2.536347</td>\n",
       "      <td>1.378155</td>\n",
       "      <td>-0.338321</td>\n",
       "      <td>0.462388</td>\n",
       "      <td>0.239599</td>\n",
       "      <td>0.098698</td>\n",
       "      <td>0.363787</td>\n",
       "      <td>0.090794</td>\n",
       "      <td>-0.551600</td>\n",
       "      <td>-0.617801</td>\n",
       "      <td>-0.991390</td>\n",
       "      <td>-0.311169</td>\n",
       "      <td>1.468177</td>\n",
       "      <td>-0.470401</td>\n",
       "      <td>0.207971</td>\n",
       "      <td>0.025791</td>\n",
       "      <td>0.403993</td>\n",
       "      <td>0.251412</td>\n",
       "      <td>-0.018307</td>\n",
       "      <td>0.277838</td>\n",
       "      <td>-0.110474</td>\n",
       "      <td>0.066928</td>\n",
       "      <td>0.128539</td>\n",
       "      <td>-0.189115</td>\n",
       "      <td>0.133558</td>\n",
       "      <td>-0.021053</td>\n",
       "      <td>0.244964</td>\n",
       "      <td>0</td>\n",
       "    </tr>\n",
       "    <tr>\n",
       "      <th>1</th>\n",
       "      <td>1.191857</td>\n",
       "      <td>0.266151</td>\n",
       "      <td>0.166480</td>\n",
       "      <td>0.448154</td>\n",
       "      <td>0.060018</td>\n",
       "      <td>-0.082361</td>\n",
       "      <td>-0.078803</td>\n",
       "      <td>0.085102</td>\n",
       "      <td>-0.255425</td>\n",
       "      <td>-0.166974</td>\n",
       "      <td>1.612727</td>\n",
       "      <td>1.065235</td>\n",
       "      <td>0.489095</td>\n",
       "      <td>-0.143772</td>\n",
       "      <td>0.635558</td>\n",
       "      <td>0.463917</td>\n",
       "      <td>-0.114805</td>\n",
       "      <td>-0.183361</td>\n",
       "      <td>-0.145783</td>\n",
       "      <td>-0.069083</td>\n",
       "      <td>-0.225775</td>\n",
       "      <td>-0.638672</td>\n",
       "      <td>0.101288</td>\n",
       "      <td>-0.339846</td>\n",
       "      <td>0.167170</td>\n",
       "      <td>0.125895</td>\n",
       "      <td>-0.008983</td>\n",
       "      <td>0.014724</td>\n",
       "      <td>-0.342475</td>\n",
       "      <td>0</td>\n",
       "    </tr>\n",
       "    <tr>\n",
       "      <th>2</th>\n",
       "      <td>-1.358354</td>\n",
       "      <td>-1.340163</td>\n",
       "      <td>1.773209</td>\n",
       "      <td>0.379780</td>\n",
       "      <td>-0.503198</td>\n",
       "      <td>1.800499</td>\n",
       "      <td>0.791461</td>\n",
       "      <td>0.247676</td>\n",
       "      <td>-1.514654</td>\n",
       "      <td>0.207643</td>\n",
       "      <td>0.624501</td>\n",
       "      <td>0.066084</td>\n",
       "      <td>0.717293</td>\n",
       "      <td>-0.165946</td>\n",
       "      <td>2.345865</td>\n",
       "      <td>-2.890083</td>\n",
       "      <td>1.109969</td>\n",
       "      <td>-0.121359</td>\n",
       "      <td>-2.261857</td>\n",
       "      <td>0.524980</td>\n",
       "      <td>0.247998</td>\n",
       "      <td>0.771679</td>\n",
       "      <td>0.909412</td>\n",
       "      <td>-0.689281</td>\n",
       "      <td>-0.327642</td>\n",
       "      <td>-0.139097</td>\n",
       "      <td>-0.055353</td>\n",
       "      <td>-0.059752</td>\n",
       "      <td>1.160686</td>\n",
       "      <td>0</td>\n",
       "    </tr>\n",
       "    <tr>\n",
       "      <th>3</th>\n",
       "      <td>-0.966272</td>\n",
       "      <td>-0.185226</td>\n",
       "      <td>1.792993</td>\n",
       "      <td>-0.863291</td>\n",
       "      <td>-0.010309</td>\n",
       "      <td>1.247203</td>\n",
       "      <td>0.237609</td>\n",
       "      <td>0.377436</td>\n",
       "      <td>-1.387024</td>\n",
       "      <td>-0.054952</td>\n",
       "      <td>-0.226487</td>\n",
       "      <td>0.178228</td>\n",
       "      <td>0.507757</td>\n",
       "      <td>-0.287924</td>\n",
       "      <td>-0.631418</td>\n",
       "      <td>-1.059647</td>\n",
       "      <td>-0.684093</td>\n",
       "      <td>1.965775</td>\n",
       "      <td>-1.232622</td>\n",
       "      <td>-0.208038</td>\n",
       "      <td>-0.108300</td>\n",
       "      <td>0.005274</td>\n",
       "      <td>-0.190321</td>\n",
       "      <td>-1.175575</td>\n",
       "      <td>0.647376</td>\n",
       "      <td>-0.221929</td>\n",
       "      <td>0.062723</td>\n",
       "      <td>0.061458</td>\n",
       "      <td>0.140534</td>\n",
       "      <td>0</td>\n",
       "    </tr>\n",
       "    <tr>\n",
       "      <th>4</th>\n",
       "      <td>-1.158233</td>\n",
       "      <td>0.877737</td>\n",
       "      <td>1.548718</td>\n",
       "      <td>0.403034</td>\n",
       "      <td>-0.407193</td>\n",
       "      <td>0.095921</td>\n",
       "      <td>0.592941</td>\n",
       "      <td>-0.270533</td>\n",
       "      <td>0.817739</td>\n",
       "      <td>0.753074</td>\n",
       "      <td>-0.822843</td>\n",
       "      <td>0.538196</td>\n",
       "      <td>1.345852</td>\n",
       "      <td>-1.119670</td>\n",
       "      <td>0.175121</td>\n",
       "      <td>-0.451449</td>\n",
       "      <td>-0.237033</td>\n",
       "      <td>-0.038195</td>\n",
       "      <td>0.803487</td>\n",
       "      <td>0.408542</td>\n",
       "      <td>-0.009431</td>\n",
       "      <td>0.798278</td>\n",
       "      <td>-0.137458</td>\n",
       "      <td>0.141267</td>\n",
       "      <td>-0.206010</td>\n",
       "      <td>0.502292</td>\n",
       "      <td>0.219422</td>\n",
       "      <td>0.215153</td>\n",
       "      <td>-0.073403</td>\n",
       "      <td>0</td>\n",
       "    </tr>\n",
       "  </tbody>\n",
       "</table>\n",
       "</div>"
      ],
      "text/plain": [
       "         V1        V2        V3        V4        V5        V6        V7  \\\n",
       "0 -1.359807 -0.072781  2.536347  1.378155 -0.338321  0.462388  0.239599   \n",
       "1  1.191857  0.266151  0.166480  0.448154  0.060018 -0.082361 -0.078803   \n",
       "2 -1.358354 -1.340163  1.773209  0.379780 -0.503198  1.800499  0.791461   \n",
       "3 -0.966272 -0.185226  1.792993 -0.863291 -0.010309  1.247203  0.237609   \n",
       "4 -1.158233  0.877737  1.548718  0.403034 -0.407193  0.095921  0.592941   \n",
       "\n",
       "         V8        V9       V10       V11       V12       V13       V14  \\\n",
       "0  0.098698  0.363787  0.090794 -0.551600 -0.617801 -0.991390 -0.311169   \n",
       "1  0.085102 -0.255425 -0.166974  1.612727  1.065235  0.489095 -0.143772   \n",
       "2  0.247676 -1.514654  0.207643  0.624501  0.066084  0.717293 -0.165946   \n",
       "3  0.377436 -1.387024 -0.054952 -0.226487  0.178228  0.507757 -0.287924   \n",
       "4 -0.270533  0.817739  0.753074 -0.822843  0.538196  1.345852 -1.119670   \n",
       "\n",
       "        V15       V16       V17       V18       V19       V20       V21  \\\n",
       "0  1.468177 -0.470401  0.207971  0.025791  0.403993  0.251412 -0.018307   \n",
       "1  0.635558  0.463917 -0.114805 -0.183361 -0.145783 -0.069083 -0.225775   \n",
       "2  2.345865 -2.890083  1.109969 -0.121359 -2.261857  0.524980  0.247998   \n",
       "3 -0.631418 -1.059647 -0.684093  1.965775 -1.232622 -0.208038 -0.108300   \n",
       "4  0.175121 -0.451449 -0.237033 -0.038195  0.803487  0.408542 -0.009431   \n",
       "\n",
       "        V22       V23       V24       V25       V26       V27       V28  \\\n",
       "0  0.277838 -0.110474  0.066928  0.128539 -0.189115  0.133558 -0.021053   \n",
       "1 -0.638672  0.101288 -0.339846  0.167170  0.125895 -0.008983  0.014724   \n",
       "2  0.771679  0.909412 -0.689281 -0.327642 -0.139097 -0.055353 -0.059752   \n",
       "3  0.005274 -0.190321 -1.175575  0.647376 -0.221929  0.062723  0.061458   \n",
       "4  0.798278 -0.137458  0.141267 -0.206010  0.502292  0.219422  0.215153   \n",
       "\n",
       "     Amount  Class  \n",
       "0  0.244964      0  \n",
       "1 -0.342475      0  \n",
       "2  1.160686      0  \n",
       "3  0.140534      0  \n",
       "4 -0.073403      0  "
      ]
     },
     "execution_count": 15,
     "metadata": {},
     "output_type": "execute_result"
    }
   ],
   "source": [
    "data.head()"
   ]
  },
  {
   "cell_type": "code",
   "execution_count": 16,
   "id": "9b0508cd",
   "metadata": {
    "execution": {
     "iopub.execute_input": "2024-03-08T12:38:01.589132Z",
     "iopub.status.busy": "2024-03-08T12:38:01.588188Z",
     "iopub.status.idle": "2024-03-08T12:38:01.594825Z",
     "shell.execute_reply": "2024-03-08T12:38:01.593668Z"
    },
    "papermill": {
     "duration": 0.029977,
     "end_time": "2024-03-08T12:38:01.596826",
     "exception": false,
     "start_time": "2024-03-08T12:38:01.566849",
     "status": "completed"
    },
    "tags": []
   },
   "outputs": [
    {
     "data": {
      "text/plain": [
       "(284807, 30)"
      ]
     },
     "execution_count": 16,
     "metadata": {},
     "output_type": "execute_result"
    }
   ],
   "source": [
    "data.shape\n"
   ]
  },
  {
   "cell_type": "markdown",
   "id": "13f216bc",
   "metadata": {
    "papermill": {
     "duration": 0.020069,
     "end_time": "2024-03-08T12:38:01.637061",
     "exception": false,
     "start_time": "2024-03-08T12:38:01.616992",
     "status": "completed"
    },
    "tags": []
   },
   "source": [
    "**CHECK FOR DUPLICATED VALUES****"
   ]
  },
  {
   "cell_type": "code",
   "execution_count": 17,
   "id": "137f7e2e",
   "metadata": {
    "execution": {
     "iopub.execute_input": "2024-03-08T12:38:01.678802Z",
     "iopub.status.busy": "2024-03-08T12:38:01.678444Z",
     "iopub.status.idle": "2024-03-08T12:38:02.469213Z",
     "shell.execute_reply": "2024-03-08T12:38:02.468107Z"
    },
    "papermill": {
     "duration": 0.81381,
     "end_time": "2024-03-08T12:38:02.470987",
     "exception": false,
     "start_time": "2024-03-08T12:38:01.657177",
     "status": "completed"
    },
    "tags": []
   },
   "outputs": [
    {
     "data": {
      "text/plain": [
       "True"
      ]
     },
     "execution_count": 17,
     "metadata": {},
     "output_type": "execute_result"
    }
   ],
   "source": [
    "data.duplicated().any()"
   ]
  },
  {
   "cell_type": "markdown",
   "id": "9dd477a2",
   "metadata": {
    "papermill": {
     "duration": 0.019972,
     "end_time": "2024-03-08T12:38:02.510590",
     "exception": false,
     "start_time": "2024-03-08T12:38:02.490618",
     "status": "completed"
    },
    "tags": []
   },
   "source": [
    "# **Let's Remove Duplicated Values**"
   ]
  },
  {
   "cell_type": "code",
   "execution_count": 18,
   "id": "ef709cff",
   "metadata": {
    "execution": {
     "iopub.execute_input": "2024-03-08T12:38:02.552875Z",
     "iopub.status.busy": "2024-03-08T12:38:02.552375Z",
     "iopub.status.idle": "2024-03-08T12:38:03.310450Z",
     "shell.execute_reply": "2024-03-08T12:38:03.309594Z"
    },
    "papermill": {
     "duration": 0.783207,
     "end_time": "2024-03-08T12:38:03.313929",
     "exception": false,
     "start_time": "2024-03-08T12:38:02.530722",
     "status": "completed"
    },
    "tags": []
   },
   "outputs": [],
   "source": [
    "data = data.drop_duplicates()"
   ]
  },
  {
   "cell_type": "code",
   "execution_count": 19,
   "id": "852fa9f7",
   "metadata": {
    "execution": {
     "iopub.execute_input": "2024-03-08T12:38:03.357221Z",
     "iopub.status.busy": "2024-03-08T12:38:03.356627Z",
     "iopub.status.idle": "2024-03-08T12:38:03.364336Z",
     "shell.execute_reply": "2024-03-08T12:38:03.362935Z"
    },
    "papermill": {
     "duration": 0.032573,
     "end_time": "2024-03-08T12:38:03.367216",
     "exception": false,
     "start_time": "2024-03-08T12:38:03.334643",
     "status": "completed"
    },
    "tags": []
   },
   "outputs": [
    {
     "data": {
      "text/plain": [
       "(275663, 30)"
      ]
     },
     "execution_count": 19,
     "metadata": {},
     "output_type": "execute_result"
    }
   ],
   "source": [
    "data.shape"
   ]
  },
  {
   "cell_type": "code",
   "execution_count": 20,
   "id": "0fd0ca48",
   "metadata": {
    "execution": {
     "iopub.execute_input": "2024-03-08T12:38:03.411311Z",
     "iopub.status.busy": "2024-03-08T12:38:03.410939Z",
     "iopub.status.idle": "2024-03-08T12:38:03.418257Z",
     "shell.execute_reply": "2024-03-08T12:38:03.417053Z"
    },
    "papermill": {
     "duration": 0.032268,
     "end_time": "2024-03-08T12:38:03.420520",
     "exception": false,
     "start_time": "2024-03-08T12:38:03.388252",
     "status": "completed"
    },
    "tags": []
   },
   "outputs": [
    {
     "data": {
      "text/plain": [
       "9144"
      ]
     },
     "execution_count": 20,
     "metadata": {},
     "output_type": "execute_result"
    }
   ],
   "source": [
    "284807- 275663"
   ]
  },
  {
   "cell_type": "markdown",
   "id": "38a2ca40",
   "metadata": {
    "papermill": {
     "duration": 0.020225,
     "end_time": "2024-03-08T12:38:03.461551",
     "exception": false,
     "start_time": "2024-03-08T12:38:03.441326",
     "status": "completed"
    },
    "tags": []
   },
   "source": [
    "# **6. Not Handling Imbalanced"
   ]
  },
  {
   "cell_type": "code",
   "execution_count": 21,
   "id": "6c5e5dce",
   "metadata": {
    "execution": {
     "iopub.execute_input": "2024-03-08T12:38:03.504547Z",
     "iopub.status.busy": "2024-03-08T12:38:03.503969Z",
     "iopub.status.idle": "2024-03-08T12:38:03.514125Z",
     "shell.execute_reply": "2024-03-08T12:38:03.512643Z"
    },
    "papermill": {
     "duration": 0.034616,
     "end_time": "2024-03-08T12:38:03.516708",
     "exception": false,
     "start_time": "2024-03-08T12:38:03.482092",
     "status": "completed"
    },
    "tags": []
   },
   "outputs": [
    {
     "data": {
      "text/plain": [
       "Class\n",
       "0    275190\n",
       "1       473\n",
       "Name: count, dtype: int64"
      ]
     },
     "execution_count": 21,
     "metadata": {},
     "output_type": "execute_result"
    }
   ],
   "source": [
    "data['Class'].value_counts()"
   ]
  },
  {
   "cell_type": "code",
   "execution_count": 22,
   "id": "48cf115f",
   "metadata": {
    "execution": {
     "iopub.execute_input": "2024-03-08T12:38:03.560050Z",
     "iopub.status.busy": "2024-03-08T12:38:03.559604Z",
     "iopub.status.idle": "2024-03-08T12:38:04.107555Z",
     "shell.execute_reply": "2024-03-08T12:38:04.105594Z"
    },
    "papermill": {
     "duration": 0.572661,
     "end_time": "2024-03-08T12:38:04.110334",
     "exception": false,
     "start_time": "2024-03-08T12:38:03.537673",
     "status": "completed"
    },
    "tags": []
   },
   "outputs": [],
   "source": [
    "import seaborn as sns"
   ]
  },
  {
   "cell_type": "code",
   "execution_count": 23,
   "id": "e48e8ac1",
   "metadata": {
    "execution": {
     "iopub.execute_input": "2024-03-08T12:38:04.154535Z",
     "iopub.status.busy": "2024-03-08T12:38:04.154153Z",
     "iopub.status.idle": "2024-03-08T12:38:04.336189Z",
     "shell.execute_reply": "2024-03-08T12:38:04.335175Z"
    },
    "papermill": {
     "duration": 0.2066,
     "end_time": "2024-03-08T12:38:04.338165",
     "exception": false,
     "start_time": "2024-03-08T12:38:04.131565",
     "status": "completed"
    },
    "tags": []
   },
   "outputs": [
    {
     "data": {
      "text/plain": [
       "<Axes: ylabel='count'>"
      ]
     },
     "execution_count": 23,
     "metadata": {},
     "output_type": "execute_result"
    },
    {
     "data": {
      "image/png": "[encoded data removed]",
      "text/plain": [
       "<Figure size 640x480 with 1 Axes>"
      ]
     },
     "metadata": {},
     "output_type": "display_data"
    }
   ],
   "source": [
    "sns.countplot(data['Class'])"
   ]
  },
  {
   "cell_type": "markdown",
   "id": "e9f2270a",
   "metadata": {
    "papermill": {
     "duration": 0.02297,
     "end_time": "2024-03-08T12:38:04.383568",
     "exception": false,
     "start_time": "2024-03-08T12:38:04.360598",
     "status": "completed"
    },
    "tags": []
   },
   "source": [
    "# **7. Store Feature Matrix In X And Response (Target) In Vector y**"
   ]
  },
  {
   "cell_type": "code",
   "execution_count": 24,
   "id": "29a97771",
   "metadata": {
    "execution": {
     "iopub.execute_input": "2024-03-08T12:38:04.429809Z",
     "iopub.status.busy": "2024-03-08T12:38:04.429454Z",
     "iopub.status.idle": "2024-03-08T12:38:04.448817Z",
     "shell.execute_reply": "2024-03-08T12:38:04.448101Z"
    },
    "papermill": {
     "duration": 0.044378,
     "end_time": "2024-03-08T12:38:04.451059",
     "exception": false,
     "start_time": "2024-03-08T12:38:04.406681",
     "status": "completed"
    },
    "tags": []
   },
   "outputs": [],
   "source": [
    "X = data.drop('Class',axis=1)\n",
    "y = data['Class']"
   ]
  },
  {
   "cell_type": "markdown",
   "id": "c8da2bae",
   "metadata": {
    "papermill": {
     "duration": 0.020411,
     "end_time": "2024-03-08T12:38:04.492517",
     "exception": false,
     "start_time": "2024-03-08T12:38:04.472106",
     "status": "completed"
    },
    "tags": []
   },
   "source": [
    "# **8. Splitting The Dataset Into The Training Set And Test Set**"
   ]
  },
  {
   "cell_type": "code",
   "execution_count": 25,
   "id": "0d5499c4",
   "metadata": {
    "execution": {
     "iopub.execute_input": "2024-03-08T12:38:04.536551Z",
     "iopub.status.busy": "2024-03-08T12:38:04.535969Z",
     "iopub.status.idle": "2024-03-08T12:38:04.751058Z",
     "shell.execute_reply": "2024-03-08T12:38:04.749619Z"
    },
    "papermill": {
     "duration": 0.240206,
     "end_time": "2024-03-08T12:38:04.753576",
     "exception": false,
     "start_time": "2024-03-08T12:38:04.513370",
     "status": "completed"
    },
    "tags": []
   },
   "outputs": [],
   "source": [
    "from sklearn.model_selection import train_test_split\n",
    "X_train,X_test,y_train,y_test = train_test_split(X,y,test_size=0.20,\n",
    "                                                 random_state=42)"
   ]
  },
  {
   "cell_type": "markdown",
   "id": "76f354a8",
   "metadata": {
    "papermill": {
     "duration": 0.020972,
     "end_time": "2024-03-08T12:38:04.795895",
     "exception": false,
     "start_time": "2024-03-08T12:38:04.774923",
     "status": "completed"
    },
    "tags": []
   },
   "source": [
    "# **9. Handling Imbalanced Dataset\n",
    "# # Undersampling**"
   ]
  },
  {
   "cell_type": "code",
   "execution_count": 26,
   "id": "0a298639",
   "metadata": {
    "execution": {
     "iopub.execute_input": "2024-03-08T12:38:04.842810Z",
     "iopub.status.busy": "2024-03-08T12:38:04.842459Z",
     "iopub.status.idle": "2024-03-08T12:38:04.870819Z",
     "shell.execute_reply": "2024-03-08T12:38:04.869859Z"
    },
    "papermill": {
     "duration": 0.054581,
     "end_time": "2024-03-08T12:38:04.873261",
     "exception": false,
     "start_time": "2024-03-08T12:38:04.818680",
     "status": "completed"
    },
    "tags": []
   },
   "outputs": [],
   "source": [
    "normal = data[data['Class']==0]\n",
    "fraud = data[data['Class']==1]"
   ]
  },
  {
   "cell_type": "code",
   "execution_count": 27,
   "id": "c49e48d0",
   "metadata": {
    "execution": {
     "iopub.execute_input": "2024-03-08T12:38:04.917211Z",
     "iopub.status.busy": "2024-03-08T12:38:04.916814Z",
     "iopub.status.idle": "2024-03-08T12:38:04.925085Z",
     "shell.execute_reply": "2024-03-08T12:38:04.923211Z"
    },
    "papermill": {
     "duration": 0.033632,
     "end_time": "2024-03-08T12:38:04.927926",
     "exception": false,
     "start_time": "2024-03-08T12:38:04.894294",
     "status": "completed"
    },
    "tags": []
   },
   "outputs": [
    {
     "data": {
      "text/plain": [
       "(275190, 30)"
      ]
     },
     "execution_count": 27,
     "metadata": {},
     "output_type": "execute_result"
    }
   ],
   "source": [
    "normal.shape"
   ]
  },
  {
   "cell_type": "code",
   "execution_count": 28,
   "id": "c5982a5d",
   "metadata": {
    "execution": {
     "iopub.execute_input": "2024-03-08T12:38:04.972839Z",
     "iopub.status.busy": "2024-03-08T12:38:04.972486Z",
     "iopub.status.idle": "2024-03-08T12:38:04.980403Z",
     "shell.execute_reply": "2024-03-08T12:38:04.978835Z"
    },
    "papermill": {
     "duration": 0.03358,
     "end_time": "2024-03-08T12:38:04.983044",
     "exception": false,
     "start_time": "2024-03-08T12:38:04.949464",
     "status": "completed"
    },
    "tags": []
   },
   "outputs": [
    {
     "data": {
      "text/plain": [
       "(473, 30)"
      ]
     },
     "execution_count": 28,
     "metadata": {},
     "output_type": "execute_result"
    }
   ],
   "source": [
    "fraud.shape"
   ]
  },
  {
   "cell_type": "code",
   "execution_count": 29,
   "id": "634a8489",
   "metadata": {
    "execution": {
     "iopub.execute_input": "2024-03-08T12:38:05.028139Z",
     "iopub.status.busy": "2024-03-08T12:38:05.027758Z",
     "iopub.status.idle": "2024-03-08T12:38:05.040978Z",
     "shell.execute_reply": "2024-03-08T12:38:05.039761Z"
    },
    "papermill": {
     "duration": 0.038792,
     "end_time": "2024-03-08T12:38:05.043553",
     "exception": false,
     "start_time": "2024-03-08T12:38:05.004761",
     "status": "completed"
    },
    "tags": []
   },
   "outputs": [],
   "source": [
    "normal_sample=normal.sample(n=473)"
   ]
  },
  {
   "cell_type": "code",
   "execution_count": 30,
   "id": "aaf27e87",
   "metadata": {
    "execution": {
     "iopub.execute_input": "2024-03-08T12:38:05.087742Z",
     "iopub.status.busy": "2024-03-08T12:38:05.087373Z",
     "iopub.status.idle": "2024-03-08T12:38:05.093983Z",
     "shell.execute_reply": "2024-03-08T12:38:05.092494Z"
    },
    "papermill": {
     "duration": 0.031353,
     "end_time": "2024-03-08T12:38:05.096187",
     "exception": false,
     "start_time": "2024-03-08T12:38:05.064834",
     "status": "completed"
    },
    "tags": []
   },
   "outputs": [
    {
     "data": {
      "text/plain": [
       "(473, 30)"
      ]
     },
     "execution_count": 30,
     "metadata": {},
     "output_type": "execute_result"
    }
   ],
   "source": [
    "normal_sample.shape"
   ]
  },
  {
   "cell_type": "code",
   "execution_count": 31,
   "id": "40e96eb5",
   "metadata": {
    "execution": {
     "iopub.execute_input": "2024-03-08T12:38:05.140464Z",
     "iopub.status.busy": "2024-03-08T12:38:05.140117Z",
     "iopub.status.idle": "2024-03-08T12:38:05.145674Z",
     "shell.execute_reply": "2024-03-08T12:38:05.144288Z"
    },
    "papermill": {
     "duration": 0.030512,
     "end_time": "2024-03-08T12:38:05.148184",
     "exception": false,
     "start_time": "2024-03-08T12:38:05.117672",
     "status": "completed"
    },
    "tags": []
   },
   "outputs": [],
   "source": [
    "new_data = pd.concat([normal_sample,fraud],ignore_index=True)"
   ]
  },
  {
   "cell_type": "code",
   "execution_count": 32,
   "id": "1950b8a7",
   "metadata": {
    "execution": {
     "iopub.execute_input": "2024-03-08T12:38:05.192233Z",
     "iopub.status.busy": "2024-03-08T12:38:05.191833Z",
     "iopub.status.idle": "2024-03-08T12:38:05.199601Z",
     "shell.execute_reply": "2024-03-08T12:38:05.198397Z"
    },
    "papermill": {
     "duration": 0.032651,
     "end_time": "2024-03-08T12:38:05.202107",
     "exception": false,
     "start_time": "2024-03-08T12:38:05.169456",
     "status": "completed"
    },
    "tags": []
   },
   "outputs": [
    {
     "data": {
      "text/plain": [
       "Class\n",
       "0    473\n",
       "1    473\n",
       "Name: count, dtype: int64"
      ]
     },
     "execution_count": 32,
     "metadata": {},
     "output_type": "execute_result"
    }
   ],
   "source": [
    "new_data['Class'].value_counts()"
   ]
  },
  {
   "cell_type": "code",
   "execution_count": 33,
   "id": "eb717994",
   "metadata": {
    "execution": {
     "iopub.execute_input": "2024-03-08T12:38:05.246114Z",
     "iopub.status.busy": "2024-03-08T12:38:05.245700Z",
     "iopub.status.idle": "2024-03-08T12:38:05.273448Z",
     "shell.execute_reply": "2024-03-08T12:38:05.272431Z"
    },
    "papermill": {
     "duration": 0.051661,
     "end_time": "2024-03-08T12:38:05.275245",
     "exception": false,
     "start_time": "2024-03-08T12:38:05.223584",
     "status": "completed"
    },
    "tags": []
   },
   "outputs": [
    {
     "data": {
      "text/html": [
       "<div>\n",
       "<style scoped>\n",
       "    .dataframe tbody tr th:only-of-type {\n",
       "        vertical-align: middle;\n",
       "    }\n",
       "\n",
       "    .dataframe tbody tr th {\n",
       "        vertical-align: top;\n",
       "    }\n",
       "\n",
       "    .dataframe thead th {\n",
       "        text-align: right;\n",
       "    }\n",
       "</style>\n",
       "<table border=\"1\" class=\"dataframe\">\n",
       "  <thead>\n",
       "    <tr style=\"text-align: right;\">\n",
       "      <th></th>\n",
       "      <th>V1</th>\n",
       "      <th>V2</th>\n",
       "      <th>V3</th>\n",
       "      <th>V4</th>\n",
       "      <th>V5</th>\n",
       "      <th>V6</th>\n",
       "      <th>V7</th>\n",
       "      <th>V8</th>\n",
       "      <th>V9</th>\n",
       "      <th>V10</th>\n",
       "      <th>V11</th>\n",
       "      <th>V12</th>\n",
       "      <th>V13</th>\n",
       "      <th>V14</th>\n",
       "      <th>V15</th>\n",
       "      <th>V16</th>\n",
       "      <th>V17</th>\n",
       "      <th>V18</th>\n",
       "      <th>V19</th>\n",
       "      <th>V20</th>\n",
       "      <th>V21</th>\n",
       "      <th>V22</th>\n",
       "      <th>V23</th>\n",
       "      <th>V24</th>\n",
       "      <th>V25</th>\n",
       "      <th>V26</th>\n",
       "      <th>V27</th>\n",
       "      <th>V28</th>\n",
       "      <th>Amount</th>\n",
       "      <th>Class</th>\n",
       "    </tr>\n",
       "  </thead>\n",
       "  <tbody>\n",
       "    <tr>\n",
       "      <th>0</th>\n",
       "      <td>1.189416</td>\n",
       "      <td>0.807677</td>\n",
       "      <td>0.351504</td>\n",
       "      <td>2.604758</td>\n",
       "      <td>0.000184</td>\n",
       "      <td>-1.129293</td>\n",
       "      <td>0.621200</td>\n",
       "      <td>-0.351583</td>\n",
       "      <td>-1.184555</td>\n",
       "      <td>0.717551</td>\n",
       "      <td>0.047510</td>\n",
       "      <td>0.381052</td>\n",
       "      <td>0.483738</td>\n",
       "      <td>0.429624</td>\n",
       "      <td>0.100346</td>\n",
       "      <td>0.145445</td>\n",
       "      <td>-0.318674</td>\n",
       "      <td>-0.749646</td>\n",
       "      <td>-1.092005</td>\n",
       "      <td>-0.140380</td>\n",
       "      <td>0.027834</td>\n",
       "      <td>0.083971</td>\n",
       "      <td>-0.047035</td>\n",
       "      <td>0.946244</td>\n",
       "      <td>0.679386</td>\n",
       "      <td>0.032977</td>\n",
       "      <td>-0.035356</td>\n",
       "      <td>0.017136</td>\n",
       "      <td>-0.334838</td>\n",
       "      <td>0</td>\n",
       "    </tr>\n",
       "    <tr>\n",
       "      <th>1</th>\n",
       "      <td>-0.273272</td>\n",
       "      <td>2.489572</td>\n",
       "      <td>0.220664</td>\n",
       "      <td>4.724569</td>\n",
       "      <td>1.327840</td>\n",
       "      <td>-0.129698</td>\n",
       "      <td>1.071475</td>\n",
       "      <td>-0.138216</td>\n",
       "      <td>-2.359051</td>\n",
       "      <td>0.538836</td>\n",
       "      <td>-0.068329</td>\n",
       "      <td>-0.536148</td>\n",
       "      <td>1.237826</td>\n",
       "      <td>-2.730216</td>\n",
       "      <td>0.542799</td>\n",
       "      <td>0.473376</td>\n",
       "      <td>2.315011</td>\n",
       "      <td>0.742515</td>\n",
       "      <td>1.011719</td>\n",
       "      <td>0.449625</td>\n",
       "      <td>-0.363316</td>\n",
       "      <td>-0.827102</td>\n",
       "      <td>-0.080943</td>\n",
       "      <td>-0.274140</td>\n",
       "      <td>-0.443783</td>\n",
       "      <td>0.104157</td>\n",
       "      <td>0.317075</td>\n",
       "      <td>0.294905</td>\n",
       "      <td>-0.342355</td>\n",
       "      <td>0</td>\n",
       "    </tr>\n",
       "    <tr>\n",
       "      <th>2</th>\n",
       "      <td>0.042475</td>\n",
       "      <td>0.907929</td>\n",
       "      <td>0.274871</td>\n",
       "      <td>-0.616372</td>\n",
       "      <td>0.525175</td>\n",
       "      <td>-0.978508</td>\n",
       "      <td>1.051495</td>\n",
       "      <td>-0.217403</td>\n",
       "      <td>-0.146759</td>\n",
       "      <td>-0.441265</td>\n",
       "      <td>-0.821219</td>\n",
       "      <td>0.501466</td>\n",
       "      <td>0.710406</td>\n",
       "      <td>-0.024026</td>\n",
       "      <td>-0.426783</td>\n",
       "      <td>-0.163333</td>\n",
       "      <td>-0.417559</td>\n",
       "      <td>-0.898900</td>\n",
       "      <td>-0.134289</td>\n",
       "      <td>0.003031</td>\n",
       "      <td>-0.251012</td>\n",
       "      <td>-0.503819</td>\n",
       "      <td>0.061400</td>\n",
       "      <td>-0.071891</td>\n",
       "      <td>-0.471217</td>\n",
       "      <td>0.145424</td>\n",
       "      <td>0.254521</td>\n",
       "      <td>0.097614</td>\n",
       "      <td>-0.335358</td>\n",
       "      <td>0</td>\n",
       "    </tr>\n",
       "    <tr>\n",
       "      <th>3</th>\n",
       "      <td>1.972922</td>\n",
       "      <td>-0.030510</td>\n",
       "      <td>-1.390799</td>\n",
       "      <td>1.163933</td>\n",
       "      <td>0.591657</td>\n",
       "      <td>0.193021</td>\n",
       "      <td>0.096471</td>\n",
       "      <td>-0.054136</td>\n",
       "      <td>0.313371</td>\n",
       "      <td>0.315930</td>\n",
       "      <td>0.197150</td>\n",
       "      <td>1.324161</td>\n",
       "      <td>0.642113</td>\n",
       "      <td>0.132011</td>\n",
       "      <td>-1.465704</td>\n",
       "      <td>-0.272567</td>\n",
       "      <td>-0.653289</td>\n",
       "      <td>0.288758</td>\n",
       "      <td>0.240535</td>\n",
       "      <td>-0.155725</td>\n",
       "      <td>0.205035</td>\n",
       "      <td>0.848180</td>\n",
       "      <td>-0.104858</td>\n",
       "      <td>0.330955</td>\n",
       "      <td>0.511335</td>\n",
       "      <td>-0.403998</td>\n",
       "      <td>0.008226</td>\n",
       "      <td>-0.057818</td>\n",
       "      <td>-0.269270</td>\n",
       "      <td>0</td>\n",
       "    </tr>\n",
       "    <tr>\n",
       "      <th>4</th>\n",
       "      <td>1.897656</td>\n",
       "      <td>-0.324234</td>\n",
       "      <td>-0.325715</td>\n",
       "      <td>1.619204</td>\n",
       "      <td>-0.601475</td>\n",
       "      <td>-0.332475</td>\n",
       "      <td>-0.358980</td>\n",
       "      <td>0.094419</td>\n",
       "      <td>1.466536</td>\n",
       "      <td>0.032786</td>\n",
       "      <td>-1.583768</td>\n",
       "      <td>-0.267910</td>\n",
       "      <td>-2.134901</td>\n",
       "      <td>0.123975</td>\n",
       "      <td>-0.956979</td>\n",
       "      <td>-0.393586</td>\n",
       "      <td>0.118821</td>\n",
       "      <td>-0.735708</td>\n",
       "      <td>0.148508</td>\n",
       "      <td>-0.396661</td>\n",
       "      <td>-0.532423</td>\n",
       "      <td>-1.349143</td>\n",
       "      <td>0.456208</td>\n",
       "      <td>-0.149976</td>\n",
       "      <td>-0.404075</td>\n",
       "      <td>-1.097130</td>\n",
       "      <td>0.042833</td>\n",
       "      <td>-0.032494</td>\n",
       "      <td>-0.268350</td>\n",
       "      <td>0</td>\n",
       "    </tr>\n",
       "  </tbody>\n",
       "</table>\n",
       "</div>"
      ],
      "text/plain": [
       "         V1        V2        V3        V4        V5        V6        V7  \\\n",
       "0  1.189416  0.807677  0.351504  2.604758  0.000184 -1.129293  0.621200   \n",
       "1 -0.273272  2.489572  0.220664  4.724569  1.327840 -0.129698  1.071475   \n",
       "2  0.042475  0.907929  0.274871 -0.616372  0.525175 -0.978508  1.051495   \n",
       "3  1.972922 -0.030510 -1.390799  1.163933  0.591657  0.193021  0.096471   \n",
       "4  1.897656 -0.324234 -0.325715  1.619204 -0.601475 -0.332475 -0.358980   \n",
       "\n",
       "         V8        V9       V10       V11       V12       V13       V14  \\\n",
       "0 -0.351583 -1.184555  0.717551  0.047510  0.381052  0.483738  0.429624   \n",
       "1 -0.138216 -2.359051  0.538836 -0.068329 -0.536148  1.237826 -2.730216   \n",
       "2 -0.217403 -0.146759 -0.441265 -0.821219  0.501466  0.710406 -0.024026   \n",
       "3 -0.054136  0.313371  0.315930  0.197150  1.324161  0.642113  0.132011   \n",
       "4  0.094419  1.466536  0.032786 -1.583768 -0.267910 -2.134901  0.123975   \n",
       "\n",
       "        V15       V16       V17       V18       V19       V20       V21  \\\n",
       "0  0.100346  0.145445 -0.318674 -0.749646 -1.092005 -0.140380  0.027834   \n",
       "1  0.542799  0.473376  2.315011  0.742515  1.011719  0.449625 -0.363316   \n",
       "2 -0.426783 -0.163333 -0.417559 -0.898900 -0.134289  0.003031 -0.251012   \n",
       "3 -1.465704 -0.272567 -0.653289  0.288758  0.240535 -0.155725  0.205035   \n",
       "4 -0.956979 -0.393586  0.118821 -0.735708  0.148508 -0.396661 -0.532423   \n",
       "\n",
       "        V22       V23       V24       V25       V26       V27       V28  \\\n",
       "0  0.083971 -0.047035  0.946244  0.679386  0.032977 -0.035356  0.017136   \n",
       "1 -0.827102 -0.080943 -0.274140 -0.443783  0.104157  0.317075  0.294905   \n",
       "2 -0.503819  0.061400 -0.071891 -0.471217  0.145424  0.254521  0.097614   \n",
       "3  0.848180 -0.104858  0.330955  0.511335 -0.403998  0.008226 -0.057818   \n",
       "4 -1.349143  0.456208 -0.149976 -0.404075 -1.097130  0.042833 -0.032494   \n",
       "\n",
       "     Amount  Class  \n",
       "0 -0.334838      0  \n",
       "1 -0.342355      0  \n",
       "2 -0.335358      0  \n",
       "3 -0.269270      0  \n",
       "4 -0.268350      0  "
      ]
     },
     "execution_count": 33,
     "metadata": {},
     "output_type": "execute_result"
    }
   ],
   "source": [
    "new_data.head()\n"
   ]
  },
  {
   "cell_type": "code",
   "execution_count": 34,
   "id": "512a8fff",
   "metadata": {
    "execution": {
     "iopub.execute_input": "2024-03-08T12:38:05.320159Z",
     "iopub.status.busy": "2024-03-08T12:38:05.319802Z",
     "iopub.status.idle": "2024-03-08T12:38:05.326658Z",
     "shell.execute_reply": "2024-03-08T12:38:05.325402Z"
    },
    "papermill": {
     "duration": 0.031281,
     "end_time": "2024-03-08T12:38:05.328648",
     "exception": false,
     "start_time": "2024-03-08T12:38:05.297367",
     "status": "completed"
    },
    "tags": []
   },
   "outputs": [],
   "source": [
    "X = new_data.drop('Class',axis=1)\n",
    "y = new_data['Class']"
   ]
  },
  {
   "cell_type": "code",
   "execution_count": 35,
   "id": "8edd6b81",
   "metadata": {
    "execution": {
     "iopub.execute_input": "2024-03-08T12:38:05.375632Z",
     "iopub.status.busy": "2024-03-08T12:38:05.375272Z",
     "iopub.status.idle": "2024-03-08T12:38:05.382087Z",
     "shell.execute_reply": "2024-03-08T12:38:05.381163Z"
    },
    "papermill": {
     "duration": 0.034011,
     "end_time": "2024-03-08T12:38:05.384470",
     "exception": false,
     "start_time": "2024-03-08T12:38:05.350459",
     "status": "completed"
    },
    "tags": []
   },
   "outputs": [],
   "source": [
    "from sklearn.model_selection import train_test_split\n",
    "X_train,X_test,y_train,y_test = train_test_split(X,y,test_size=0.20,\n",
    "                                                 random_state=42)"
   ]
  },
  {
   "cell_type": "markdown",
   "id": "0c86b5b9",
   "metadata": {
    "papermill": {
     "duration": 0.021313,
     "end_time": "2024-03-08T12:38:05.427409",
     "exception": false,
     "start_time": "2024-03-08T12:38:05.406096",
     "status": "completed"
    },
    "tags": []
   },
   "source": [
    "# **10. Logistic Regression**"
   ]
  },
  {
   "cell_type": "code",
   "execution_count": 36,
   "id": "81435d42",
   "metadata": {
    "execution": {
     "iopub.execute_input": "2024-03-08T12:38:05.471785Z",
     "iopub.status.busy": "2024-03-08T12:38:05.471445Z",
     "iopub.status.idle": "2024-03-08T12:38:05.605207Z",
     "shell.execute_reply": "2024-03-08T12:38:05.604432Z"
    },
    "papermill": {
     "duration": 0.158323,
     "end_time": "2024-03-08T12:38:05.607293",
     "exception": false,
     "start_time": "2024-03-08T12:38:05.448970",
     "status": "completed"
    },
    "tags": []
   },
   "outputs": [
    {
     "data": {
      "text/html": [
       "<style>#sk-container-id-1 {color: black;background-color: white;}#sk-container-id-1 pre{padding: 0;}#sk-container-id-1 div.sk-toggleable {background-color: white;}#sk-container-id-1 label.sk-toggleable__label {cursor: pointer;display: block;width: 100%;margin-bottom: 0;padding: 0.3em;box-sizing: border-box;text-align: center;}#sk-container-id-1 label.sk-toggleable__label-arrow:before {content: \"▸\";float: left;margin-right: 0.25em;color: #696969;}#sk-container-id-1 label.sk-toggleable__label-arrow:hover:before {color: black;}#sk-container-id-1 div.sk-estimator:hover label.sk-toggleable__label-arrow:before {color: black;}#sk-container-id-1 div.sk-toggleable__content {max-height: 0;max-width: 0;overflow: hidden;text-align: left;background-color: #f0f8ff;}#sk-container-id-1 div.sk-toggleable__content pre {margin: 0.2em;color: black;border-radius: 0.25em;background-color: #f0f8ff;}#sk-container-id-1 input.sk-toggleable__control:checked~div.sk-toggleable__content {max-height: 200px;max-width: 100%;overflow: auto;}#sk-container-id-1 input.sk-toggleable__control:checked~label.sk-toggleable__label-arrow:before {content: \"▾\";}#sk-container-id-1 div.sk-estimator input.sk-toggleable__control:checked~label.sk-toggleable__label {background-color: #d4ebff;}#sk-container-id-1 div.sk-label input.sk-toggleable__control:checked~label.sk-toggleable__label {background-color: #d4ebff;}#sk-container-id-1 input.sk-hidden--visually {border: 0;clip: rect(1px 1px 1px 1px);clip: rect(1px, 1px, 1px, 1px);height: 1px;margin: -1px;overflow: hidden;padding: 0;position: absolute;width: 1px;}#sk-container-id-1 div.sk-estimator {font-family: monospace;background-color: #f0f8ff;border: 1px dotted black;border-radius: 0.25em;box-sizing: border-box;margin-bottom: 0.5em;}#sk-container-id-1 div.sk-estimator:hover {background-color: #d4ebff;}#sk-container-id-1 div.sk-parallel-item::after {content: \"\";width: 100%;border-bottom: 1px solid gray;flex-grow: 1;}#sk-container-id-1 div.sk-label:hover label.sk-toggleable__label {background-color: #d4ebff;}#sk-container-id-1 div.sk-serial::before {content: \"\";position: absolute;border-left: 1px solid gray;box-sizing: border-box;top: 0;bottom: 0;left: 50%;z-index: 0;}#sk-container-id-1 div.sk-serial {display: flex;flex-direction: column;align-items: center;background-color: white;padding-right: 0.2em;padding-left: 0.2em;position: relative;}#sk-container-id-1 div.sk-item {position: relative;z-index: 1;}#sk-container-id-1 div.sk-parallel {display: flex;align-items: stretch;justify-content: center;background-color: white;position: relative;}#sk-container-id-1 div.sk-item::before, #sk-container-id-1 div.sk-parallel-item::before {content: \"\";position: absolute;border-left: 1px solid gray;box-sizing: border-box;top: 0;bottom: 0;left: 50%;z-index: -1;}#sk-container-id-1 div.sk-parallel-item {display: flex;flex-direction: column;z-index: 1;position: relative;background-color: white;}#sk-container-id-1 div.sk-parallel-item:first-child::after {align-self: flex-end;width: 50%;}#sk-container-id-1 div.sk-parallel-item:last-child::after {align-self: flex-start;width: 50%;}#sk-container-id-1 div.sk-parallel-item:only-child::after {width: 0;}#sk-container-id-1 div.sk-dashed-wrapped {border: 1px dashed gray;margin: 0 0.4em 0.5em 0.4em;box-sizing: border-box;padding-bottom: 0.4em;background-color: white;}#sk-container-id-1 div.sk-label label {font-family: monospace;font-weight: bold;display: inline-block;line-height: 1.2em;}#sk-container-id-1 div.sk-label-container {text-align: center;}#sk-container-id-1 div.sk-container {/* jupyter's `normalize.less` sets `[hidden] { display: none; }` but bootstrap.min.css set `[hidden] { display: none !important; }` so we also need the `!important` here to be able to override the default hidden behavior on the sphinx rendered scikit-learn.org. See: https://github.com/scikit-learn/scikit-learn/issues/21755 */display: inline-block !important;position: relative;}#sk-container-id-1 div.sk-text-repr-fallback {display: none;}</style><div id=\"sk-container-id-1\" class=\"sk-top-container\"><div class=\"sk-text-repr-fallback\"><pre>LogisticRegression()</pre><b>In a Jupyter environment, please rerun this cell to show the HTML representation or trust the notebook. <br />On GitHub, the HTML representation is unable to render, please try loading this page with nbviewer.org.</b></div><div class=\"sk-container\" hidden><div class=\"sk-item\"><div class=\"sk-estimator sk-toggleable\"><input class=\"sk-toggleable__control sk-hidden--visually\" id=\"sk-estimator-id-1\" type=\"checkbox\" checked><label for=\"sk-estimator-id-1\" class=\"sk-toggleable__label sk-toggleable__label-arrow\">LogisticRegression</label><div class=\"sk-toggleable__content\"><pre>LogisticRegression()</pre></div></div></div></div></div>"
      ],
      "text/plain": [
       "LogisticRegression()"
      ]
     },
     "execution_count": 36,
     "metadata": {},
     "output_type": "execute_result"
    }
   ],
   "source": [
    "from sklearn.linear_model import LogisticRegression\n",
    "log = LogisticRegression()\n",
    "log.fit(X_train,y_train)"
   ]
  },
  {
   "cell_type": "code",
   "execution_count": 37,
   "id": "8336e816",
   "metadata": {
    "execution": {
     "iopub.execute_input": "2024-03-08T12:38:05.664420Z",
     "iopub.status.busy": "2024-03-08T12:38:05.664044Z",
     "iopub.status.idle": "2024-03-08T12:38:05.670217Z",
     "shell.execute_reply": "2024-03-08T12:38:05.669484Z"
    },
    "papermill": {
     "duration": 0.03743,
     "end_time": "2024-03-08T12:38:05.672674",
     "exception": false,
     "start_time": "2024-03-08T12:38:05.635244",
     "status": "completed"
    },
    "tags": []
   },
   "outputs": [],
   "source": [
    "y_pred1 = log.predict(X_test)"
   ]
  },
  {
   "cell_type": "code",
   "execution_count": 38,
   "id": "9e03dae1",
   "metadata": {
    "execution": {
     "iopub.execute_input": "2024-03-08T12:38:05.725893Z",
     "iopub.status.busy": "2024-03-08T12:38:05.725595Z",
     "iopub.status.idle": "2024-03-08T12:38:05.729373Z",
     "shell.execute_reply": "2024-03-08T12:38:05.728493Z"
    },
    "papermill": {
     "duration": 0.030808,
     "end_time": "2024-03-08T12:38:05.731073",
     "exception": false,
     "start_time": "2024-03-08T12:38:05.700265",
     "status": "completed"
    },
    "tags": []
   },
   "outputs": [],
   "source": [
    "from sklearn.metrics import accuracy_score"
   ]
  },
  {
   "cell_type": "code",
   "execution_count": 39,
   "id": "59e04db7",
   "metadata": {
    "execution": {
     "iopub.execute_input": "2024-03-08T12:38:05.775131Z",
     "iopub.status.busy": "2024-03-08T12:38:05.774809Z",
     "iopub.status.idle": "2024-03-08T12:38:05.782078Z",
     "shell.execute_reply": "2024-03-08T12:38:05.780865Z"
    },
    "papermill": {
     "duration": 0.032797,
     "end_time": "2024-03-08T12:38:05.784999",
     "exception": false,
     "start_time": "2024-03-08T12:38:05.752202",
     "status": "completed"
    },
    "tags": []
   },
   "outputs": [
    {
     "data": {
      "text/plain": [
       "0.9421052631578948"
      ]
     },
     "execution_count": 39,
     "metadata": {},
     "output_type": "execute_result"
    }
   ],
   "source": [
    "accuracy_score(y_test,y_pred1)"
   ]
  },
  {
   "cell_type": "code",
   "execution_count": 40,
   "id": "c1c39eda",
   "metadata": {
    "execution": {
     "iopub.execute_input": "2024-03-08T12:38:05.832205Z",
     "iopub.status.busy": "2024-03-08T12:38:05.831831Z",
     "iopub.status.idle": "2024-03-08T12:38:05.836892Z",
     "shell.execute_reply": "2024-03-08T12:38:05.835601Z"
    },
    "papermill": {
     "duration": 0.031728,
     "end_time": "2024-03-08T12:38:05.839567",
     "exception": false,
     "start_time": "2024-03-08T12:38:05.807839",
     "status": "completed"
    },
    "tags": []
   },
   "outputs": [],
   "source": [
    "from sklearn.metrics import precision_score,recall_score,f1_score"
   ]
  },
  {
   "cell_type": "code",
   "execution_count": 41,
   "id": "9cef4fdc",
   "metadata": {
    "execution": {
     "iopub.execute_input": "2024-03-08T12:38:05.885702Z",
     "iopub.status.busy": "2024-03-08T12:38:05.885360Z",
     "iopub.status.idle": "2024-03-08T12:38:05.894347Z",
     "shell.execute_reply": "2024-03-08T12:38:05.893438Z"
    },
    "papermill": {
     "duration": 0.034535,
     "end_time": "2024-03-08T12:38:05.896121",
     "exception": false,
     "start_time": "2024-03-08T12:38:05.861586",
     "status": "completed"
    },
    "tags": []
   },
   "outputs": [
    {
     "data": {
      "text/plain": [
       "0.9690721649484536"
      ]
     },
     "execution_count": 41,
     "metadata": {},
     "output_type": "execute_result"
    }
   ],
   "source": [
    "precision_score(y_test,y_pred1)"
   ]
  },
  {
   "cell_type": "code",
   "execution_count": 42,
   "id": "e64aae40",
   "metadata": {
    "execution": {
     "iopub.execute_input": "2024-03-08T12:38:05.942520Z",
     "iopub.status.busy": "2024-03-08T12:38:05.941980Z",
     "iopub.status.idle": "2024-03-08T12:38:05.951328Z",
     "shell.execute_reply": "2024-03-08T12:38:05.950036Z"
    },
    "papermill": {
     "duration": 0.035581,
     "end_time": "2024-03-08T12:38:05.954310",
     "exception": false,
     "start_time": "2024-03-08T12:38:05.918729",
     "status": "completed"
    },
    "tags": []
   },
   "outputs": [
    {
     "data": {
      "text/plain": [
       "0.9215686274509803"
      ]
     },
     "execution_count": 42,
     "metadata": {},
     "output_type": "execute_result"
    }
   ],
   "source": [
    "recall_score(y_test,y_pred1)"
   ]
  },
  {
   "cell_type": "code",
   "execution_count": 43,
   "id": "fc9b087d",
   "metadata": {
    "execution": {
     "iopub.execute_input": "2024-03-08T12:38:06.000131Z",
     "iopub.status.busy": "2024-03-08T12:38:05.999784Z",
     "iopub.status.idle": "2024-03-08T12:38:06.009162Z",
     "shell.execute_reply": "2024-03-08T12:38:06.008048Z"
    },
    "papermill": {
     "duration": 0.034782,
     "end_time": "2024-03-08T12:38:06.011284",
     "exception": false,
     "start_time": "2024-03-08T12:38:05.976502",
     "status": "completed"
    },
    "tags": []
   },
   "outputs": [
    {
     "data": {
      "text/plain": [
       "0.9447236180904522"
      ]
     },
     "execution_count": 43,
     "metadata": {},
     "output_type": "execute_result"
    }
   ],
   "source": [
    "f1_score(y_test,y_pred1)"
   ]
  },
  {
   "cell_type": "markdown",
   "id": "22b86310",
   "metadata": {
    "papermill": {
     "duration": 0.023028,
     "end_time": "2024-03-08T12:38:06.057062",
     "exception": false,
     "start_time": "2024-03-08T12:38:06.034034",
     "status": "completed"
    },
    "tags": []
   },
   "source": [
    "# **11. Decision Tree Classifier**"
   ]
  },
  {
   "cell_type": "code",
   "execution_count": 44,
   "id": "df50acea",
   "metadata": {
    "execution": {
     "iopub.execute_input": "2024-03-08T12:38:06.104360Z",
     "iopub.status.busy": "2024-03-08T12:38:06.104026Z",
     "iopub.status.idle": "2024-03-08T12:38:06.294239Z",
     "shell.execute_reply": "2024-03-08T12:38:06.293174Z"
    },
    "papermill": {
     "duration": 0.216626,
     "end_time": "2024-03-08T12:38:06.296483",
     "exception": false,
     "start_time": "2024-03-08T12:38:06.079857",
     "status": "completed"
    },
    "tags": []
   },
   "outputs": [
    {
     "data": {
      "text/html": [
       "<style>#sk-container-id-2 {color: black;background-color: white;}#sk-container-id-2 pre{padding: 0;}#sk-container-id-2 div.sk-toggleable {background-color: white;}#sk-container-id-2 label.sk-toggleable__label {cursor: pointer;display: block;width: 100%;margin-bottom: 0;padding: 0.3em;box-sizing: border-box;text-align: center;}#sk-container-id-2 label.sk-toggleable__label-arrow:before {content: \"▸\";float: left;margin-right: 0.25em;color: #696969;}#sk-container-id-2 label.sk-toggleable__label-arrow:hover:before {color: black;}#sk-container-id-2 div.sk-estimator:hover label.sk-toggleable__label-arrow:before {color: black;}#sk-container-id-2 div.sk-toggleable__content {max-height: 0;max-width: 0;overflow: hidden;text-align: left;background-color: #f0f8ff;}#sk-container-id-2 div.sk-toggleable__content pre {margin: 0.2em;color: black;border-radius: 0.25em;background-color: #f0f8ff;}#sk-container-id-2 input.sk-toggleable__control:checked~div.sk-toggleable__content {max-height: 200px;max-width: 100%;overflow: auto;}#sk-container-id-2 input.sk-toggleable__control:checked~label.sk-toggleable__label-arrow:before {content: \"▾\";}#sk-container-id-2 div.sk-estimator input.sk-toggleable__control:checked~label.sk-toggleable__label {background-color: #d4ebff;}#sk-container-id-2 div.sk-label input.sk-toggleable__control:checked~label.sk-toggleable__label {background-color: #d4ebff;}#sk-container-id-2 input.sk-hidden--visually {border: 0;clip: rect(1px 1px 1px 1px);clip: rect(1px, 1px, 1px, 1px);height: 1px;margin: -1px;overflow: hidden;padding: 0;position: absolute;width: 1px;}#sk-container-id-2 div.sk-estimator {font-family: monospace;background-color: #f0f8ff;border: 1px dotted black;border-radius: 0.25em;box-sizing: border-box;margin-bottom: 0.5em;}#sk-container-id-2 div.sk-estimator:hover {background-color: #d4ebff;}#sk-container-id-2 div.sk-parallel-item::after {content: \"\";width: 100%;border-bottom: 1px solid gray;flex-grow: 1;}#sk-container-id-2 div.sk-label:hover label.sk-toggleable__label {background-color: #d4ebff;}#sk-container-id-2 div.sk-serial::before {content: \"\";position: absolute;border-left: 1px solid gray;box-sizing: border-box;top: 0;bottom: 0;left: 50%;z-index: 0;}#sk-container-id-2 div.sk-serial {display: flex;flex-direction: column;align-items: center;background-color: white;padding-right: 0.2em;padding-left: 0.2em;position: relative;}#sk-container-id-2 div.sk-item {position: relative;z-index: 1;}#sk-container-id-2 div.sk-parallel {display: flex;align-items: stretch;justify-content: center;background-color: white;position: relative;}#sk-container-id-2 div.sk-item::before, #sk-container-id-2 div.sk-parallel-item::before {content: \"\";position: absolute;border-left: 1px solid gray;box-sizing: border-box;top: 0;bottom: 0;left: 50%;z-index: -1;}#sk-container-id-2 div.sk-parallel-item {display: flex;flex-direction: column;z-index: 1;position: relative;background-color: white;}#sk-container-id-2 div.sk-parallel-item:first-child::after {align-self: flex-end;width: 50%;}#sk-container-id-2 div.sk-parallel-item:last-child::after {align-self: flex-start;width: 50%;}#sk-container-id-2 div.sk-parallel-item:only-child::after {width: 0;}#sk-container-id-2 div.sk-dashed-wrapped {border: 1px dashed gray;margin: 0 0.4em 0.5em 0.4em;box-sizing: border-box;padding-bottom: 0.4em;background-color: white;}#sk-container-id-2 div.sk-label label {font-family: monospace;font-weight: bold;display: inline-block;line-height: 1.2em;}#sk-container-id-2 div.sk-label-container {text-align: center;}#sk-container-id-2 div.sk-container {/* jupyter's `normalize.less` sets `[hidden] { display: none; }` but bootstrap.min.css set `[hidden] { display: none !important; }` so we also need the `!important` here to be able to override the default hidden behavior on the sphinx rendered scikit-learn.org. See: https://github.com/scikit-learn/scikit-learn/issues/21755 */display: inline-block !important;position: relative;}#sk-container-id-2 div.sk-text-repr-fallback {display: none;}</style><div id=\"sk-container-id-2\" class=\"sk-top-container\"><div class=\"sk-text-repr-fallback\"><pre>DecisionTreeClassifier()</pre><b>In a Jupyter environment, please rerun this cell to show the HTML representation or trust the notebook. <br />On GitHub, the HTML representation is unable to render, please try loading this page with nbviewer.org.</b></div><div class=\"sk-container\" hidden><div class=\"sk-item\"><div class=\"sk-estimator sk-toggleable\"><input class=\"sk-toggleable__control sk-hidden--visually\" id=\"sk-estimator-id-2\" type=\"checkbox\" checked><label for=\"sk-estimator-id-2\" class=\"sk-toggleable__label sk-toggleable__label-arrow\">DecisionTreeClassifier</label><div class=\"sk-toggleable__content\"><pre>DecisionTreeClassifier()</pre></div></div></div></div></div>"
      ],
      "text/plain": [
       "DecisionTreeClassifier()"
      ]
     },
     "execution_count": 44,
     "metadata": {},
     "output_type": "execute_result"
    }
   ],
   "source": [
    "from sklearn.tree import DecisionTreeClassifier\n",
    "dt = DecisionTreeClassifier()\n",
    "dt.fit(X_train,y_train)"
   ]
  },
  {
   "cell_type": "code",
   "execution_count": 45,
   "id": "88a33e28",
   "metadata": {
    "execution": {
     "iopub.execute_input": "2024-03-08T12:38:06.343966Z",
     "iopub.status.busy": "2024-03-08T12:38:06.343054Z",
     "iopub.status.idle": "2024-03-08T12:38:06.349401Z",
     "shell.execute_reply": "2024-03-08T12:38:06.348377Z"
    },
    "papermill": {
     "duration": 0.032418,
     "end_time": "2024-03-08T12:38:06.351587",
     "exception": false,
     "start_time": "2024-03-08T12:38:06.319169",
     "status": "completed"
    },
    "tags": []
   },
   "outputs": [],
   "source": [
    "y_pred2 = dt.predict(X_test)"
   ]
  },
  {
   "cell_type": "code",
   "execution_count": 46,
   "id": "1c96951a",
   "metadata": {
    "execution": {
     "iopub.execute_input": "2024-03-08T12:38:06.399106Z",
     "iopub.status.busy": "2024-03-08T12:38:06.398438Z",
     "iopub.status.idle": "2024-03-08T12:38:06.405246Z",
     "shell.execute_reply": "2024-03-08T12:38:06.404126Z"
    },
    "papermill": {
     "duration": 0.033539,
     "end_time": "2024-03-08T12:38:06.407690",
     "exception": false,
     "start_time": "2024-03-08T12:38:06.374151",
     "status": "completed"
    },
    "tags": []
   },
   "outputs": [
    {
     "data": {
      "text/plain": [
       "0.9210526315789473"
      ]
     },
     "execution_count": 46,
     "metadata": {},
     "output_type": "execute_result"
    }
   ],
   "source": [
    "accuracy_score(y_test,y_pred2)"
   ]
  },
  {
   "cell_type": "code",
   "execution_count": 47,
   "id": "087e57a7",
   "metadata": {
    "execution": {
     "iopub.execute_input": "2024-03-08T12:38:06.454201Z",
     "iopub.status.busy": "2024-03-08T12:38:06.453844Z",
     "iopub.status.idle": "2024-03-08T12:38:06.461340Z",
     "shell.execute_reply": "2024-03-08T12:38:06.460448Z"
    },
    "papermill": {
     "duration": 0.033334,
     "end_time": "2024-03-08T12:38:06.463536",
     "exception": false,
     "start_time": "2024-03-08T12:38:06.430202",
     "status": "completed"
    },
    "tags": []
   },
   "outputs": [
    {
     "data": {
      "text/plain": [
       "0.9065420560747663"
      ]
     },
     "execution_count": 47,
     "metadata": {},
     "output_type": "execute_result"
    }
   ],
   "source": [
    "precision_score(y_test,y_pred2)"
   ]
  },
  {
   "cell_type": "code",
   "execution_count": 48,
   "id": "589691df",
   "metadata": {
    "execution": {
     "iopub.execute_input": "2024-03-08T12:38:06.511170Z",
     "iopub.status.busy": "2024-03-08T12:38:06.510784Z",
     "iopub.status.idle": "2024-03-08T12:38:06.519692Z",
     "shell.execute_reply": "2024-03-08T12:38:06.518547Z"
    },
    "papermill": {
     "duration": 0.035818,
     "end_time": "2024-03-08T12:38:06.522284",
     "exception": false,
     "start_time": "2024-03-08T12:38:06.486466",
     "status": "completed"
    },
    "tags": []
   },
   "outputs": [
    {
     "data": {
      "text/plain": [
       "0.9509803921568627"
      ]
     },
     "execution_count": 48,
     "metadata": {},
     "output_type": "execute_result"
    }
   ],
   "source": [
    "recall_score(y_test,y_pred2)"
   ]
  },
  {
   "cell_type": "code",
   "execution_count": 49,
   "id": "7f15dbd0",
   "metadata": {
    "execution": {
     "iopub.execute_input": "2024-03-08T12:38:06.570058Z",
     "iopub.status.busy": "2024-03-08T12:38:06.569622Z",
     "iopub.status.idle": "2024-03-08T12:38:06.579697Z",
     "shell.execute_reply": "2024-03-08T12:38:06.578835Z"
    },
    "papermill": {
     "duration": 0.036437,
     "end_time": "2024-03-08T12:38:06.581705",
     "exception": false,
     "start_time": "2024-03-08T12:38:06.545268",
     "status": "completed"
    },
    "tags": []
   },
   "outputs": [
    {
     "data": {
      "text/plain": [
       "0.9282296650717703"
      ]
     },
     "execution_count": 49,
     "metadata": {},
     "output_type": "execute_result"
    }
   ],
   "source": [
    "f1_score(y_test,y_pred2)"
   ]
  },
  {
   "cell_type": "markdown",
   "id": "0c501525",
   "metadata": {
    "papermill": {
     "duration": 0.022662,
     "end_time": "2024-03-08T12:38:06.627426",
     "exception": false,
     "start_time": "2024-03-08T12:38:06.604764",
     "status": "completed"
    },
    "tags": []
   },
   "source": [
    "# **12. Random Forest Classifier**"
   ]
  },
  {
   "cell_type": "code",
   "execution_count": 50,
   "id": "960c5fab",
   "metadata": {
    "execution": {
     "iopub.execute_input": "2024-03-08T12:38:06.675797Z",
     "iopub.status.busy": "2024-03-08T12:38:06.675179Z",
     "iopub.status.idle": "2024-03-08T12:38:07.082995Z",
     "shell.execute_reply": "2024-03-08T12:38:07.081631Z"
    },
    "papermill": {
     "duration": 0.434994,
     "end_time": "2024-03-08T12:38:07.085635",
     "exception": false,
     "start_time": "2024-03-08T12:38:06.650641",
     "status": "completed"
    },
    "tags": []
   },
   "outputs": [
    {
     "data": {
      "text/html": [
       "<style>#sk-container-id-3 {color: black;background-color: white;}#sk-container-id-3 pre{padding: 0;}#sk-container-id-3 div.sk-toggleable {background-color: white;}#sk-container-id-3 label.sk-toggleable__label {cursor: pointer;display: block;width: 100%;margin-bottom: 0;padding: 0.3em;box-sizing: border-box;text-align: center;}#sk-container-id-3 label.sk-toggleable__label-arrow:before {content: \"▸\";float: left;margin-right: 0.25em;color: #696969;}#sk-container-id-3 label.sk-toggleable__label-arrow:hover:before {color: black;}#sk-container-id-3 div.sk-estimator:hover label.sk-toggleable__label-arrow:before {color: black;}#sk-container-id-3 div.sk-toggleable__content {max-height: 0;max-width: 0;overflow: hidden;text-align: left;background-color: #f0f8ff;}#sk-container-id-3 div.sk-toggleable__content pre {margin: 0.2em;color: black;border-radius: 0.25em;background-color: #f0f8ff;}#sk-container-id-3 input.sk-toggleable__control:checked~div.sk-toggleable__content {max-height: 200px;max-width: 100%;overflow: auto;}#sk-container-id-3 input.sk-toggleable__control:checked~label.sk-toggleable__label-arrow:before {content: \"▾\";}#sk-container-id-3 div.sk-estimator input.sk-toggleable__control:checked~label.sk-toggleable__label {background-color: #d4ebff;}#sk-container-id-3 div.sk-label input.sk-toggleable__control:checked~label.sk-toggleable__label {background-color: #d4ebff;}#sk-container-id-3 input.sk-hidden--visually {border: 0;clip: rect(1px 1px 1px 1px);clip: rect(1px, 1px, 1px, 1px);height: 1px;margin: -1px;overflow: hidden;padding: 0;position: absolute;width: 1px;}#sk-container-id-3 div.sk-estimator {font-family: monospace;background-color: #f0f8ff;border: 1px dotted black;border-radius: 0.25em;box-sizing: border-box;margin-bottom: 0.5em;}#sk-container-id-3 div.sk-estimator:hover {background-color: #d4ebff;}#sk-container-id-3 div.sk-parallel-item::after {content: \"\";width: 100%;border-bottom: 1px solid gray;flex-grow: 1;}#sk-container-id-3 div.sk-label:hover label.sk-toggleable__label {background-color: #d4ebff;}#sk-container-id-3 div.sk-serial::before {content: \"\";position: absolute;border-left: 1px solid gray;box-sizing: border-box;top: 0;bottom: 0;left: 50%;z-index: 0;}#sk-container-id-3 div.sk-serial {display: flex;flex-direction: column;align-items: center;background-color: white;padding-right: 0.2em;padding-left: 0.2em;position: relative;}#sk-container-id-3 div.sk-item {position: relative;z-index: 1;}#sk-container-id-3 div.sk-parallel {display: flex;align-items: stretch;justify-content: center;background-color: white;position: relative;}#sk-container-id-3 div.sk-item::before, #sk-container-id-3 div.sk-parallel-item::before {content: \"\";position: absolute;border-left: 1px solid gray;box-sizing: border-box;top: 0;bottom: 0;left: 50%;z-index: -1;}#sk-container-id-3 div.sk-parallel-item {display: flex;flex-direction: column;z-index: 1;position: relative;background-color: white;}#sk-container-id-3 div.sk-parallel-item:first-child::after {align-self: flex-end;width: 50%;}#sk-container-id-3 div.sk-parallel-item:last-child::after {align-self: flex-start;width: 50%;}#sk-container-id-3 div.sk-parallel-item:only-child::after {width: 0;}#sk-container-id-3 div.sk-dashed-wrapped {border: 1px dashed gray;margin: 0 0.4em 0.5em 0.4em;box-sizing: border-box;padding-bottom: 0.4em;background-color: white;}#sk-container-id-3 div.sk-label label {font-family: monospace;font-weight: bold;display: inline-block;line-height: 1.2em;}#sk-container-id-3 div.sk-label-container {text-align: center;}#sk-container-id-3 div.sk-container {/* jupyter's `normalize.less` sets `[hidden] { display: none; }` but bootstrap.min.css set `[hidden] { display: none !important; }` so we also need the `!important` here to be able to override the default hidden behavior on the sphinx rendered scikit-learn.org. See: https://github.com/scikit-learn/scikit-learn/issues/21755 */display: inline-block !important;position: relative;}#sk-container-id-3 div.sk-text-repr-fallback {display: none;}</style><div id=\"sk-container-id-3\" class=\"sk-top-container\"><div class=\"sk-text-repr-fallback\"><pre>RandomForestClassifier()</pre><b>In a Jupyter environment, please rerun this cell to show the HTML representation or trust the notebook. <br />On GitHub, the HTML representation is unable to render, please try loading this page with nbviewer.org.</b></div><div class=\"sk-container\" hidden><div class=\"sk-item\"><div class=\"sk-estimator sk-toggleable\"><input class=\"sk-toggleable__control sk-hidden--visually\" id=\"sk-estimator-id-3\" type=\"checkbox\" checked><label for=\"sk-estimator-id-3\" class=\"sk-toggleable__label sk-toggleable__label-arrow\">RandomForestClassifier</label><div class=\"sk-toggleable__content\"><pre>RandomForestClassifier()</pre></div></div></div></div></div>"
      ],
      "text/plain": [
       "RandomForestClassifier()"
      ]
     },
     "execution_count": 50,
     "metadata": {},
     "output_type": "execute_result"
    }
   ],
   "source": [
    "from sklearn.ensemble import RandomForestClassifier\n",
    "rf = RandomForestClassifier()\n",
    "rf.fit(X_train,y_train)"
   ]
  },
  {
   "cell_type": "code",
   "execution_count": 51,
   "id": "79dfcab1",
   "metadata": {
    "execution": {
     "iopub.execute_input": "2024-03-08T12:38:07.135086Z",
     "iopub.status.busy": "2024-03-08T12:38:07.134391Z",
     "iopub.status.idle": "2024-03-08T12:38:07.147552Z",
     "shell.execute_reply": "2024-03-08T12:38:07.146358Z"
    },
    "papermill": {
     "duration": 0.040775,
     "end_time": "2024-03-08T12:38:07.149780",
     "exception": false,
     "start_time": "2024-03-08T12:38:07.109005",
     "status": "completed"
    },
    "tags": []
   },
   "outputs": [],
   "source": [
    "y_pred3 = rf.predict(X_test)"
   ]
  },
  {
   "cell_type": "code",
   "execution_count": 52,
   "id": "e98e0e76",
   "metadata": {
    "execution": {
     "iopub.execute_input": "2024-03-08T12:38:07.198263Z",
     "iopub.status.busy": "2024-03-08T12:38:07.197864Z",
     "iopub.status.idle": "2024-03-08T12:38:07.207615Z",
     "shell.execute_reply": "2024-03-08T12:38:07.206516Z"
    },
    "papermill": {
     "duration": 0.036854,
     "end_time": "2024-03-08T12:38:07.209452",
     "exception": false,
     "start_time": "2024-03-08T12:38:07.172598",
     "status": "completed"
    },
    "tags": []
   },
   "outputs": [
    {
     "data": {
      "text/plain": [
       "0.9263157894736842"
      ]
     },
     "execution_count": 52,
     "metadata": {},
     "output_type": "execute_result"
    }
   ],
   "source": [
    "accuracy_score(y_test,y_pred3)"
   ]
  },
  {
   "cell_type": "code",
   "execution_count": 53,
   "id": "c4ba61cc",
   "metadata": {
    "execution": {
     "iopub.execute_input": "2024-03-08T12:38:07.258311Z",
     "iopub.status.busy": "2024-03-08T12:38:07.257867Z",
     "iopub.status.idle": "2024-03-08T12:38:07.269029Z",
     "shell.execute_reply": "2024-03-08T12:38:07.268044Z"
    },
    "papermill": {
     "duration": 0.038938,
     "end_time": "2024-03-08T12:38:07.271146",
     "exception": false,
     "start_time": "2024-03-08T12:38:07.232208",
     "status": "completed"
    },
    "tags": []
   },
   "outputs": [
    {
     "data": {
      "text/plain": [
       "0.9489795918367347"
      ]
     },
     "execution_count": 53,
     "metadata": {},
     "output_type": "execute_result"
    }
   ],
   "source": [
    "precision_score(y_test,y_pred3)"
   ]
  },
  {
   "cell_type": "code",
   "execution_count": 54,
   "id": "af3ed8d7",
   "metadata": {
    "execution": {
     "iopub.execute_input": "2024-03-08T12:38:07.325934Z",
     "iopub.status.busy": "2024-03-08T12:38:07.324909Z",
     "iopub.status.idle": "2024-03-08T12:38:07.333295Z",
     "shell.execute_reply": "2024-03-08T12:38:07.332355Z"
    },
    "papermill": {
     "duration": 0.034191,
     "end_time": "2024-03-08T12:38:07.335017",
     "exception": false,
     "start_time": "2024-03-08T12:38:07.300826",
     "status": "completed"
    },
    "tags": []
   },
   "outputs": [
    {
     "data": {
      "text/plain": [
       "0.9117647058823529"
      ]
     },
     "execution_count": 54,
     "metadata": {},
     "output_type": "execute_result"
    }
   ],
   "source": [
    "recall_score(y_test,y_pred3)"
   ]
  },
  {
   "cell_type": "code",
   "execution_count": 55,
   "id": "a027aa8e",
   "metadata": {
    "execution": {
     "iopub.execute_input": "2024-03-08T12:38:07.382049Z",
     "iopub.status.busy": "2024-03-08T12:38:07.381496Z",
     "iopub.status.idle": "2024-03-08T12:38:07.388985Z",
     "shell.execute_reply": "2024-03-08T12:38:07.387969Z"
    },
    "papermill": {
     "duration": 0.033764,
     "end_time": "2024-03-08T12:38:07.391202",
     "exception": false,
     "start_time": "2024-03-08T12:38:07.357438",
     "status": "completed"
    },
    "tags": []
   },
   "outputs": [
    {
     "data": {
      "text/plain": [
       "0.9300000000000002"
      ]
     },
     "execution_count": 55,
     "metadata": {},
     "output_type": "execute_result"
    }
   ],
   "source": [
    "f1_score(y_test,y_pred3)"
   ]
  },
  {
   "cell_type": "markdown",
   "id": "a01fad75",
   "metadata": {
    "papermill": {
     "duration": 0.022794,
     "end_time": "2024-03-08T12:38:07.438269",
     "exception": false,
     "start_time": "2024-03-08T12:38:07.415475",
     "status": "completed"
    },
    "tags": []
   },
   "source": [
    "# **COMPARING THE ACCURACIES OF DIFFERENT MODELS**"
   ]
  },
  {
   "cell_type": "code",
   "execution_count": 56,
   "id": "662dc2ac",
   "metadata": {
    "execution": {
     "iopub.execute_input": "2024-03-08T12:38:07.486521Z",
     "iopub.status.busy": "2024-03-08T12:38:07.486173Z",
     "iopub.status.idle": "2024-03-08T12:38:07.495349Z",
     "shell.execute_reply": "2024-03-08T12:38:07.494147Z"
    },
    "papermill": {
     "duration": 0.036848,
     "end_time": "2024-03-08T12:38:07.498197",
     "exception": false,
     "start_time": "2024-03-08T12:38:07.461349",
     "status": "completed"
    },
    "tags": []
   },
   "outputs": [],
   "source": [
    "final_data = pd.DataFrame({'Models':['LR','DT','RF'],\n",
    "              \"ACC\":[accuracy_score(y_test,y_pred1)*100,\n",
    "                     accuracy_score(y_test,y_pred2)*100,\n",
    "                     accuracy_score(y_test,y_pred3)*100\n",
    "                    ]})"
   ]
  },
  {
   "cell_type": "code",
   "execution_count": 57,
   "id": "13b44956",
   "metadata": {
    "execution": {
     "iopub.execute_input": "2024-03-08T12:38:07.550991Z",
     "iopub.status.busy": "2024-03-08T12:38:07.550632Z",
     "iopub.status.idle": "2024-03-08T12:38:07.559364Z",
     "shell.execute_reply": "2024-03-08T12:38:07.558325Z"
    },
    "papermill": {
     "duration": 0.037517,
     "end_time": "2024-03-08T12:38:07.561218",
     "exception": false,
     "start_time": "2024-03-08T12:38:07.523701",
     "status": "completed"
    },
    "tags": []
   },
   "outputs": [
    {
     "data": {
      "text/html": [
       "<div>\n",
       "<style scoped>\n",
       "    .dataframe tbody tr th:only-of-type {\n",
       "        vertical-align: middle;\n",
       "    }\n",
       "\n",
       "    .dataframe tbody tr th {\n",
       "        vertical-align: top;\n",
       "    }\n",
       "\n",
       "    .dataframe thead th {\n",
       "        text-align: right;\n",
       "    }\n",
       "</style>\n",
       "<table border=\"1\" class=\"dataframe\">\n",
       "  <thead>\n",
       "    <tr style=\"text-align: right;\">\n",
       "      <th></th>\n",
       "      <th>Models</th>\n",
       "      <th>ACC</th>\n",
       "    </tr>\n",
       "  </thead>\n",
       "  <tbody>\n",
       "    <tr>\n",
       "      <th>0</th>\n",
       "      <td>LR</td>\n",
       "      <td>94.210526</td>\n",
       "    </tr>\n",
       "    <tr>\n",
       "      <th>1</th>\n",
       "      <td>DT</td>\n",
       "      <td>92.105263</td>\n",
       "    </tr>\n",
       "    <tr>\n",
       "      <th>2</th>\n",
       "      <td>RF</td>\n",
       "      <td>92.631579</td>\n",
       "    </tr>\n",
       "  </tbody>\n",
       "</table>\n",
       "</div>"
      ],
      "text/plain": [
       "  Models        ACC\n",
       "0     LR  94.210526\n",
       "1     DT  92.105263\n",
       "2     RF  92.631579"
      ]
     },
     "execution_count": 57,
     "metadata": {},
     "output_type": "execute_result"
    }
   ],
   "source": [
    "final_data"
   ]
  },
  {
   "cell_type": "code",
   "execution_count": 58,
   "id": "0ab9848d",
   "metadata": {
    "execution": {
     "iopub.execute_input": "2024-03-08T12:38:07.610238Z",
     "iopub.status.busy": "2024-03-08T12:38:07.609532Z",
     "iopub.status.idle": "2024-03-08T12:38:07.754266Z",
     "shell.execute_reply": "2024-03-08T12:38:07.753566Z"
    },
    "papermill": {
     "duration": 0.171462,
     "end_time": "2024-03-08T12:38:07.756037",
     "exception": false,
     "start_time": "2024-03-08T12:38:07.584575",
     "status": "completed"
    },
    "tags": []
   },
   "outputs": [
    {
     "data": {
      "text/plain": [
       "<Axes: xlabel='Models', ylabel='ACC'>"
      ]
     },
     "execution_count": 58,
     "metadata": {},
     "output_type": "execute_result"
    },
    {
     "data": {
      "image/png": "[encoded data removed]",
      "text/plain": [
       "<Figure size 640x480 with 1 Axes>"
      ]
     },
     "metadata": {},
     "output_type": "display_data"
    }
   ],
   "source": [
    "import seaborn as sns\n",
    "\n",
    "# Assuming 'final_data' is your DataFrame with 'Models' and 'ACC' columns\n",
    "sns.barplot(x='Models', y='ACC', data=final_data)\n"
   ]
  },
  {
   "cell_type": "code",
   "execution_count": 59,
   "id": "4e44a25a",
   "metadata": {
    "execution": {
     "iopub.execute_input": "2024-03-08T12:38:07.806588Z",
     "iopub.status.busy": "2024-03-08T12:38:07.805989Z",
     "iopub.status.idle": "2024-03-08T12:38:07.998568Z",
     "shell.execute_reply": "2024-03-08T12:38:07.997602Z"
    },
    "papermill": {
     "duration": 0.219429,
     "end_time": "2024-03-08T12:38:08.000946",
     "exception": false,
     "start_time": "2024-03-08T12:38:07.781517",
     "status": "completed"
    },
    "tags": []
   },
   "outputs": [],
   "source": [
    "from sklearn.ensemble import AdaBoostClassifier\n",
    "from xgboost import XGBClassifier"
   ]
  },
  {
   "cell_type": "code",
   "execution_count": 60,
   "id": "aecfb6d9",
   "metadata": {
    "execution": {
     "iopub.execute_input": "2024-03-08T12:38:08.050438Z",
     "iopub.status.busy": "2024-03-08T12:38:08.050062Z",
     "iopub.status.idle": "2024-03-08T12:38:08.056204Z",
     "shell.execute_reply": "2024-03-08T12:38:08.054863Z"
    },
    "papermill": {
     "duration": 0.033998,
     "end_time": "2024-03-08T12:38:08.058923",
     "exception": false,
     "start_time": "2024-03-08T12:38:08.024925",
     "status": "completed"
    },
    "tags": []
   },
   "outputs": [],
   "source": [
    "abc=AdaBoostClassifier(n_estimators=100,learning_rate=0.1)\n",
    "xgbc=XGBClassifier(max_depth=1,n_estimators=30)"
   ]
  },
  {
   "cell_type": "code",
   "execution_count": 61,
   "id": "ce409843",
   "metadata": {
    "execution": {
     "iopub.execute_input": "2024-03-08T12:38:08.109566Z",
     "iopub.status.busy": "2024-03-08T12:38:08.109215Z",
     "iopub.status.idle": "2024-03-08T12:38:08.114261Z",
     "shell.execute_reply": "2024-03-08T12:38:08.113184Z"
    },
    "papermill": {
     "duration": 0.033061,
     "end_time": "2024-03-08T12:38:08.116403",
     "exception": false,
     "start_time": "2024-03-08T12:38:08.083342",
     "status": "completed"
    },
    "tags": []
   },
   "outputs": [],
   "source": [
    "models=[log,\n",
    "        rf,\n",
    "        dt,\n",
    "        abc,\n",
    "        xgbc]"
   ]
  },
  {
   "cell_type": "code",
   "execution_count": 62,
   "id": "5de01723",
   "metadata": {
    "execution": {
     "iopub.execute_input": "2024-03-08T12:38:08.166684Z",
     "iopub.status.busy": "2024-03-08T12:38:08.166306Z",
     "iopub.status.idle": "2024-03-08T12:38:08.983499Z",
     "shell.execute_reply": "2024-03-08T12:38:08.982800Z"
    },
    "papermill": {
     "duration": 0.844537,
     "end_time": "2024-03-08T12:38:08.985413",
     "exception": false,
     "start_time": "2024-03-08T12:38:08.140876",
     "status": "completed"
    },
    "tags": []
   },
   "outputs": [
    {
     "name": "stdout",
     "output_type": "stream",
     "text": [
      "Accuracy: 0.9421\n",
      "Accuracy: 0.9368\n",
      "Accuracy: 0.9053\n",
      "Accuracy: 0.9316\n",
      "Accuracy: 0.9368\n"
     ]
    }
   ],
   "source": [
    "from sklearn.metrics import accuracy_score\n",
    "\n",
    "for m in models:\n",
    "    m.fit(X_train, y_train)\n",
    "    \n",
    "    test_pred = m.predict(X_test)\n",
    "    accuracy = accuracy_score(y_test, test_pred)\n",
    "    print('Accuracy: {:.4f}'.format(accuracy))\n",
    "\n",
    "    "
   ]
  },
  {
   "cell_type": "code",
   "execution_count": 63,
   "id": "775956a0",
   "metadata": {
    "execution": {
     "iopub.execute_input": "2024-03-08T12:38:09.038114Z",
     "iopub.status.busy": "2024-03-08T12:38:09.036701Z",
     "iopub.status.idle": "2024-03-08T12:38:09.045704Z",
     "shell.execute_reply": "2024-03-08T12:38:09.044686Z"
    },
    "papermill": {
     "duration": 0.038222,
     "end_time": "2024-03-08T12:38:09.048453",
     "exception": false,
     "start_time": "2024-03-08T12:38:09.010231",
     "status": "completed"
    },
    "tags": []
   },
   "outputs": [
    {
     "name": "stdout",
     "output_type": "stream",
     "text": [
      "  Model Name  Accuracy\n",
      "0    Model 1    0.9474\n",
      "1    Model 2    0.9421\n",
      "2    Model 3    0.9211\n",
      "3    Model 4    0.9421\n",
      "4    Model 5    0.9316\n"
     ]
    }
   ],
   "source": [
    "import pandas as pd\n",
    "\n",
    "# Sample data: List of model names and their corresponding accuracy scores\n",
    "model_names = ['Model 1', 'Model 2', 'Model 3', 'Model 4', 'Model 5']\n",
    "accuracies = [0.9474, 0.9421, 0.9211, 0.9421, 0.9316]\n",
    "\n",
    "# Create a DataFrame\n",
    "accuracy_df = pd.DataFrame({'Model Name': model_names, 'Accuracy': accuracies})\n",
    "\n",
    "# Print the table\n",
    "print(accuracy_df)\n"
   ]
  },
  {
   "cell_type": "code",
   "execution_count": 64,
   "id": "b30a0c87",
   "metadata": {
    "execution": {
     "iopub.execute_input": "2024-03-08T12:38:09.100168Z",
     "iopub.status.busy": "2024-03-08T12:38:09.099224Z",
     "iopub.status.idle": "2024-03-08T12:38:10.425215Z",
     "shell.execute_reply": "2024-03-08T12:38:10.424491Z"
    },
    "papermill": {
     "duration": 1.353965,
     "end_time": "2024-03-08T12:38:10.427136",
     "exception": false,
     "start_time": "2024-03-08T12:38:09.073171",
     "status": "completed"
    },
    "tags": []
   },
   "outputs": [
    {
     "data": {
      "image/png": "[encoded data removed]",
      "text/plain": [
       "<Figure size 600x400 with 1 Axes>"
      ]
     },
     "metadata": {},
     "output_type": "display_data"
    },
    {
     "data": {
      "image/png": "[encoded data removed]",
      "text/plain": [
       "<Figure size 600x400 with 1 Axes>"
      ]
     },
     "metadata": {},
     "output_type": "display_data"
    },
    {
     "data": {
      "image/png": "[encoded data removed]",
      "text/plain": [
       "<Figure size 600x400 with 1 Axes>"
      ]
     },
     "metadata": {},
     "output_type": "display_data"
    },
    {
     "data": {
      "image/png": "[encoded data removed]",
      "text/plain": [
       "<Figure size 600x400 with 1 Axes>"
      ]
     },
     "metadata": {},
     "output_type": "display_data"
    },
    {
     "data": {
      "image/png": "[encoded data removed]",
      "text/plain": [
       "<Figure size 600x400 with 1 Axes>"
      ]
     },
     "metadata": {},
     "output_type": "display_data"
    }
   ],
   "source": [
    "from sklearn.metrics import confusion_matrix\n",
    "import matplotlib.pyplot as plt\n",
    "import seaborn as sns\n",
    "\n",
    "# Assuming 'models' is a list of trained models\n",
    "\n",
    "for model in models:\n",
    "    model.fit(X_train, y_train)\n",
    "    \n",
    "    train_pred = model.predict(X_test)\n",
    "    cm = confusion_matrix(y_test, train_pred)  # Swap true and predicted labels\n",
    "    \n",
    "    plt.figure(figsize=(6, 4))\n",
    "    sns.heatmap(cm, annot=True, fmt=\"d\", cmap=\"Blues\", annot_kws={\"size\": 12}, cbar=False)\n",
    "    plt.xlabel(\"Predicted\")\n",
    "    plt.ylabel(\"True\")\n",
    "    plt.title(f\"Confusion Matrix for {model.__class__.__name__}\")\n",
    "    plt.show()\n",
    "\n"
   ]
  },
  {
   "cell_type": "code",
   "execution_count": 65,
   "id": "7bae05e2",
   "metadata": {
    "execution": {
     "iopub.execute_input": "2024-03-08T12:38:10.488146Z",
     "iopub.status.busy": "2024-03-08T12:38:10.487478Z",
     "iopub.status.idle": "2024-03-08T12:38:10.653783Z",
     "shell.execute_reply": "2024-03-08T12:38:10.652697Z"
    },
    "papermill": {
     "duration": 0.195752,
     "end_time": "2024-03-08T12:38:10.655730",
     "exception": false,
     "start_time": "2024-03-08T12:38:10.459978",
     "status": "completed"
    },
    "tags": []
   },
   "outputs": [
    {
     "data": {
      "image/png": "[encoded data removed]",
      "text/plain": [
       "<Figure size 640x480 with 1 Axes>"
      ]
     },
     "metadata": {},
     "output_type": "display_data"
    }
   ],
   "source": [
    "import matplotlib.pyplot as plt\n",
    "\n",
    "# Sample data: List of model names and their corresponding accuracy scores\n",
    "model_names = ['Model 1', 'Model 2', 'Model 3', 'Model 4', 'Model 5']\n",
    "accuracies = [0.9474, 0.9421, 0.9211, 0.9421, 0.9316]\n",
    "\n",
    "# Create a bar graph\n",
    "plt.bar(model_names, accuracies)\n",
    "plt.xlabel('Model')\n",
    "plt.ylabel('Accuracy')\n",
    "plt.title('Model Accuracies')\n",
    "\n",
    "# Customize the plot (optional)\n",
    "plt.xticks(rotation=45)  # Rotate the x-axis labels for better readability\n",
    "\n",
    "# Show the graph\n",
    "plt.show()\n"
   ]
  },
  {
   "cell_type": "code",
   "execution_count": 66,
   "id": "30b019ef",
   "metadata": {
    "execution": {
     "iopub.execute_input": "2024-03-08T12:38:10.708896Z",
     "iopub.status.busy": "2024-03-08T12:38:10.708336Z",
     "iopub.status.idle": "2024-03-08T12:38:10.860007Z",
     "shell.execute_reply": "2024-03-08T12:38:10.859256Z"
    },
    "papermill": {
     "duration": 0.180273,
     "end_time": "2024-03-08T12:38:10.861920",
     "exception": false,
     "start_time": "2024-03-08T12:38:10.681647",
     "status": "completed"
    },
    "tags": []
   },
   "outputs": [
    {
     "data": {
      "image/png": "[encoded data removed]",
      "text/plain": [
       "<Figure size 640x480 with 1 Axes>"
      ]
     },
     "metadata": {},
     "output_type": "display_data"
    }
   ],
   "source": [
    "import matplotlib.pyplot as plt\n",
    "\n",
    "# Sample data: List of model names and their corresponding accuracy scores\n",
    "model_names = ['Logistic Regression', 'Decision Trees', 'Random Forest', 'AdaBoost', 'XGBoost']\n",
    "accuracies = [0.9474, 0.9421, 0.9211, 0.9421, 0.9316]\n",
    "\n",
    "# Create a horizontal bar graph\n",
    "plt.barh(model_names, accuracies, color=['skyblue', 'lightcoral', 'lightgreen', 'lightpink', 'lightblue'])\n",
    "plt.xlabel('Accuracy')\n",
    "plt.title('Model Accuracies')\n",
    "\n",
    "# Show the graph\n",
    "plt.show()\n",
    "\n"
   ]
  },
  {
   "cell_type": "code",
   "execution_count": 67,
   "id": "a111e99f",
   "metadata": {
    "execution": {
     "iopub.execute_input": "2024-03-08T12:38:10.915943Z",
     "iopub.status.busy": "2024-03-08T12:38:10.915578Z",
     "iopub.status.idle": "2024-03-08T12:38:11.104334Z",
     "shell.execute_reply": "2024-03-08T12:38:11.103045Z"
    },
    "papermill": {
     "duration": 0.218726,
     "end_time": "2024-03-08T12:38:11.106635",
     "exception": false,
     "start_time": "2024-03-08T12:38:10.887909",
     "status": "completed"
    },
    "tags": []
   },
   "outputs": [
    {
     "data": {
      "image/png": "[encoded data removed]",
      "text/plain": [
       "<Figure size 1000x600 with 1 Axes>"
      ]
     },
     "metadata": {},
     "output_type": "display_data"
    }
   ],
   "source": [
    "import matplotlib.pyplot as plt\n",
    "\n",
    "# Actual model names and their corresponding accuracy scores\n",
    "model_names = ['Logistic Regression', 'Decision Trees', 'Random Forest', 'AdaBoost', 'XGBoost']\n",
    "accuracies = [0.9474, 0.9421, 0.9211, 0.9421, 0.9316]\n",
    "\n",
    "# Create a horizontal bar graph\n",
    "fig, ax = plt.subplots(figsize=(10, 6))\n",
    "\n",
    "# Customize the colors and aesthetics\n",
    "colors = ['skyblue', 'lightcoral', 'lightgreen', 'lightpink', 'lightblue']\n",
    "bar_width = 0.6\n",
    "bar_positions = range(len(model_names))\n",
    "\n",
    "ax.barh(bar_positions, accuracies, height=bar_width, color=colors)\n",
    "ax.set_yticks(bar_positions)\n",
    "ax.set_yticklabels(model_names)\n",
    "ax.invert_yaxis()  # Reverse the order of model names for better readability\n",
    "\n",
    "# Label each bar with its accuracy score\n",
    "for i, acc in enumerate(accuracies):\n",
    "    ax.text(acc + 0.02, i, f'{acc:.5f}', va='center')\n",
    "\n",
    "# Add labels and a title\n",
    "plt.xlabel('Accuracy')\n",
    "plt.title('Model Accuracies')\n",
    "\n",
    "# Customize the grid and remove the frame\n",
    "ax.xaxis.grid(linestyle='--', linewidth=0.5)\n",
    "ax.set_axisbelow(True)\n",
    "ax.spines['right'].set_visible(False)\n",
    "ax.spines['top'].set_visible(False)\n",
    "ax.spines['left'].set_visible(False)\n",
    "\n",
    "# Show the graph\n",
    "plt.show()\n"
   ]
  },
  {
   "cell_type": "markdown",
   "id": "67069f88",
   "metadata": {
    "papermill": {
     "duration": 0.025365,
     "end_time": "2024-03-08T12:38:11.157923",
     "exception": false,
     "start_time": "2024-03-08T12:38:11.132558",
     "status": "completed"
    },
    "tags": []
   },
   "source": [
    "**WORKFLOW :\n",
    "\n",
    "1.Load Data\n",
    "\n",
    "2.Check Missing Values ( If Exist ; Fill each record with mean of its feature )\n",
    "\n",
    "3.Standardized the Input Variables.\n",
    "\n",
    "4.Split into 50% Training(Samples,Labels) , 30% Test(Samples,Labels) and 20% Validation Data(Samples,Labels).\n",
    "\n",
    "5.Model : input Layer (No. of features ), 3 hidden layers including 10,8,6 unit & Output Layer with activation function relu/tanh (check by experiment).\n",
    "\n",
    "6.Compilation Step (Note : Its a Binary problem , select loss , metrics according to it)\n",
    "\n",
    "7.Train the Model with Epochs (100).\n",
    "\n",
    "8.If the model gets overfit tune your model by changing the units , No. of layers , epochs , add dropout layer or add Regularizer according to the need .\n",
    "\n",
    "9.Prediction should be > 92% \n",
    "\n",
    "10.Evaluation Step \n",
    "\n",
    "11Prediction**"
   ]
  },
  {
   "cell_type": "code",
   "execution_count": 68,
   "id": "d9b0587d",
   "metadata": {
    "execution": {
     "iopub.execute_input": "2024-03-08T12:38:11.211709Z",
     "iopub.status.busy": "2024-03-08T12:38:11.211372Z",
     "iopub.status.idle": "2024-03-08T12:38:20.698872Z",
     "shell.execute_reply": "2024-03-08T12:38:20.697567Z"
    },
    "papermill": {
     "duration": 9.517407,
     "end_time": "2024-03-08T12:38:20.701387",
     "exception": false,
     "start_time": "2024-03-08T12:38:11.183980",
     "status": "completed"
    },
    "tags": []
   },
   "outputs": [],
   "source": [
    "import pandas as pd\n",
    "import numpy as np\n",
    "import keras\n",
    "\n",
    "pd.set_option('display.max_rows', None)\n",
    "pd.set_option('display.max_columns', None)"
   ]
  },
  {
   "cell_type": "code",
   "execution_count": 69,
   "id": "a8e1a476",
   "metadata": {
    "execution": {
     "iopub.execute_input": "2024-03-08T12:38:20.758350Z",
     "iopub.status.busy": "2024-03-08T12:38:20.756604Z",
     "iopub.status.idle": "2024-03-08T12:38:22.566893Z",
     "shell.execute_reply": "2024-03-08T12:38:22.566005Z"
    },
    "papermill": {
     "duration": 1.841315,
     "end_time": "2024-03-08T12:38:22.569145",
     "exception": false,
     "start_time": "2024-03-08T12:38:20.727830",
     "status": "completed"
    },
    "tags": []
   },
   "outputs": [],
   "source": [
    "df = pd.read_csv('../input/creditcardfraud/creditcard.csv')\n"
   ]
  },
  {
   "cell_type": "code",
   "execution_count": 70,
   "id": "9f611f8c",
   "metadata": {
    "execution": {
     "iopub.execute_input": "2024-03-08T12:38:22.624230Z",
     "iopub.status.busy": "2024-03-08T12:38:22.623621Z",
     "iopub.status.idle": "2024-03-08T12:38:22.649360Z",
     "shell.execute_reply": "2024-03-08T12:38:22.648331Z"
    },
    "papermill": {
     "duration": 0.056521,
     "end_time": "2024-03-08T12:38:22.652113",
     "exception": false,
     "start_time": "2024-03-08T12:38:22.595592",
     "status": "completed"
    },
    "tags": []
   },
   "outputs": [
    {
     "data": {
      "text/html": [
       "<div>\n",
       "<style scoped>\n",
       "    .dataframe tbody tr th:only-of-type {\n",
       "        vertical-align: middle;\n",
       "    }\n",
       "\n",
       "    .dataframe tbody tr th {\n",
       "        vertical-align: top;\n",
       "    }\n",
       "\n",
       "    .dataframe thead th {\n",
       "        text-align: right;\n",
       "    }\n",
       "</style>\n",
       "<table border=\"1\" class=\"dataframe\">\n",
       "  <thead>\n",
       "    <tr style=\"text-align: right;\">\n",
       "      <th></th>\n",
       "      <th>Time</th>\n",
       "      <th>V1</th>\n",
       "      <th>V2</th>\n",
       "      <th>V3</th>\n",
       "      <th>V4</th>\n",
       "      <th>V5</th>\n",
       "      <th>V6</th>\n",
       "      <th>V7</th>\n",
       "      <th>V8</th>\n",
       "      <th>V9</th>\n",
       "      <th>V10</th>\n",
       "      <th>V11</th>\n",
       "      <th>V12</th>\n",
       "      <th>V13</th>\n",
       "      <th>V14</th>\n",
       "      <th>V15</th>\n",
       "      <th>V16</th>\n",
       "      <th>V17</th>\n",
       "      <th>V18</th>\n",
       "      <th>V19</th>\n",
       "      <th>V20</th>\n",
       "      <th>V21</th>\n",
       "      <th>V22</th>\n",
       "      <th>V23</th>\n",
       "      <th>V24</th>\n",
       "      <th>V25</th>\n",
       "      <th>V26</th>\n",
       "      <th>V27</th>\n",
       "      <th>V28</th>\n",
       "      <th>Amount</th>\n",
       "      <th>Class</th>\n",
       "    </tr>\n",
       "  </thead>\n",
       "  <tbody>\n",
       "    <tr>\n",
       "      <th>0</th>\n",
       "      <td>0.0</td>\n",
       "      <td>-1.359807</td>\n",
       "      <td>-0.072781</td>\n",
       "      <td>2.536347</td>\n",
       "      <td>1.378155</td>\n",
       "      <td>-0.338321</td>\n",
       "      <td>0.462388</td>\n",
       "      <td>0.239599</td>\n",
       "      <td>0.098698</td>\n",
       "      <td>0.363787</td>\n",
       "      <td>0.090794</td>\n",
       "      <td>-0.551600</td>\n",
       "      <td>-0.617801</td>\n",
       "      <td>-0.991390</td>\n",
       "      <td>-0.311169</td>\n",
       "      <td>1.468177</td>\n",
       "      <td>-0.470401</td>\n",
       "      <td>0.207971</td>\n",
       "      <td>0.025791</td>\n",
       "      <td>0.403993</td>\n",
       "      <td>0.251412</td>\n",
       "      <td>-0.018307</td>\n",
       "      <td>0.277838</td>\n",
       "      <td>-0.110474</td>\n",
       "      <td>0.066928</td>\n",
       "      <td>0.128539</td>\n",
       "      <td>-0.189115</td>\n",
       "      <td>0.133558</td>\n",
       "      <td>-0.021053</td>\n",
       "      <td>149.62</td>\n",
       "      <td>0</td>\n",
       "    </tr>\n",
       "    <tr>\n",
       "      <th>1</th>\n",
       "      <td>0.0</td>\n",
       "      <td>1.191857</td>\n",
       "      <td>0.266151</td>\n",
       "      <td>0.166480</td>\n",
       "      <td>0.448154</td>\n",
       "      <td>0.060018</td>\n",
       "      <td>-0.082361</td>\n",
       "      <td>-0.078803</td>\n",
       "      <td>0.085102</td>\n",
       "      <td>-0.255425</td>\n",
       "      <td>-0.166974</td>\n",
       "      <td>1.612727</td>\n",
       "      <td>1.065235</td>\n",
       "      <td>0.489095</td>\n",
       "      <td>-0.143772</td>\n",
       "      <td>0.635558</td>\n",
       "      <td>0.463917</td>\n",
       "      <td>-0.114805</td>\n",
       "      <td>-0.183361</td>\n",
       "      <td>-0.145783</td>\n",
       "      <td>-0.069083</td>\n",
       "      <td>-0.225775</td>\n",
       "      <td>-0.638672</td>\n",
       "      <td>0.101288</td>\n",
       "      <td>-0.339846</td>\n",
       "      <td>0.167170</td>\n",
       "      <td>0.125895</td>\n",
       "      <td>-0.008983</td>\n",
       "      <td>0.014724</td>\n",
       "      <td>2.69</td>\n",
       "      <td>0</td>\n",
       "    </tr>\n",
       "    <tr>\n",
       "      <th>2</th>\n",
       "      <td>1.0</td>\n",
       "      <td>-1.358354</td>\n",
       "      <td>-1.340163</td>\n",
       "      <td>1.773209</td>\n",
       "      <td>0.379780</td>\n",
       "      <td>-0.503198</td>\n",
       "      <td>1.800499</td>\n",
       "      <td>0.791461</td>\n",
       "      <td>0.247676</td>\n",
       "      <td>-1.514654</td>\n",
       "      <td>0.207643</td>\n",
       "      <td>0.624501</td>\n",
       "      <td>0.066084</td>\n",
       "      <td>0.717293</td>\n",
       "      <td>-0.165946</td>\n",
       "      <td>2.345865</td>\n",
       "      <td>-2.890083</td>\n",
       "      <td>1.109969</td>\n",
       "      <td>-0.121359</td>\n",
       "      <td>-2.261857</td>\n",
       "      <td>0.524980</td>\n",
       "      <td>0.247998</td>\n",
       "      <td>0.771679</td>\n",
       "      <td>0.909412</td>\n",
       "      <td>-0.689281</td>\n",
       "      <td>-0.327642</td>\n",
       "      <td>-0.139097</td>\n",
       "      <td>-0.055353</td>\n",
       "      <td>-0.059752</td>\n",
       "      <td>378.66</td>\n",
       "      <td>0</td>\n",
       "    </tr>\n",
       "    <tr>\n",
       "      <th>3</th>\n",
       "      <td>1.0</td>\n",
       "      <td>-0.966272</td>\n",
       "      <td>-0.185226</td>\n",
       "      <td>1.792993</td>\n",
       "      <td>-0.863291</td>\n",
       "      <td>-0.010309</td>\n",
       "      <td>1.247203</td>\n",
       "      <td>0.237609</td>\n",
       "      <td>0.377436</td>\n",
       "      <td>-1.387024</td>\n",
       "      <td>-0.054952</td>\n",
       "      <td>-0.226487</td>\n",
       "      <td>0.178228</td>\n",
       "      <td>0.507757</td>\n",
       "      <td>-0.287924</td>\n",
       "      <td>-0.631418</td>\n",
       "      <td>-1.059647</td>\n",
       "      <td>-0.684093</td>\n",
       "      <td>1.965775</td>\n",
       "      <td>-1.232622</td>\n",
       "      <td>-0.208038</td>\n",
       "      <td>-0.108300</td>\n",
       "      <td>0.005274</td>\n",
       "      <td>-0.190321</td>\n",
       "      <td>-1.175575</td>\n",
       "      <td>0.647376</td>\n",
       "      <td>-0.221929</td>\n",
       "      <td>0.062723</td>\n",
       "      <td>0.061458</td>\n",
       "      <td>123.50</td>\n",
       "      <td>0</td>\n",
       "    </tr>\n",
       "    <tr>\n",
       "      <th>4</th>\n",
       "      <td>2.0</td>\n",
       "      <td>-1.158233</td>\n",
       "      <td>0.877737</td>\n",
       "      <td>1.548718</td>\n",
       "      <td>0.403034</td>\n",
       "      <td>-0.407193</td>\n",
       "      <td>0.095921</td>\n",
       "      <td>0.592941</td>\n",
       "      <td>-0.270533</td>\n",
       "      <td>0.817739</td>\n",
       "      <td>0.753074</td>\n",
       "      <td>-0.822843</td>\n",
       "      <td>0.538196</td>\n",
       "      <td>1.345852</td>\n",
       "      <td>-1.119670</td>\n",
       "      <td>0.175121</td>\n",
       "      <td>-0.451449</td>\n",
       "      <td>-0.237033</td>\n",
       "      <td>-0.038195</td>\n",
       "      <td>0.803487</td>\n",
       "      <td>0.408542</td>\n",
       "      <td>-0.009431</td>\n",
       "      <td>0.798278</td>\n",
       "      <td>-0.137458</td>\n",
       "      <td>0.141267</td>\n",
       "      <td>-0.206010</td>\n",
       "      <td>0.502292</td>\n",
       "      <td>0.219422</td>\n",
       "      <td>0.215153</td>\n",
       "      <td>69.99</td>\n",
       "      <td>0</td>\n",
       "    </tr>\n",
       "  </tbody>\n",
       "</table>\n",
       "</div>"
      ],
      "text/plain": [
       "   Time        V1        V2        V3        V4        V5        V6        V7  \\\n",
       "0   0.0 -1.359807 -0.072781  2.536347  1.378155 -0.338321  0.462388  0.239599   \n",
       "1   0.0  1.191857  0.266151  0.166480  0.448154  0.060018 -0.082361 -0.078803   \n",
       "2   1.0 -1.358354 -1.340163  1.773209  0.379780 -0.503198  1.800499  0.791461   \n",
       "3   1.0 -0.966272 -0.185226  1.792993 -0.863291 -0.010309  1.247203  0.237609   \n",
       "4   2.0 -1.158233  0.877737  1.548718  0.403034 -0.407193  0.095921  0.592941   \n",
       "\n",
       "         V8        V9       V10       V11       V12       V13       V14  \\\n",
       "0  0.098698  0.363787  0.090794 -0.551600 -0.617801 -0.991390 -0.311169   \n",
       "1  0.085102 -0.255425 -0.166974  1.612727  1.065235  0.489095 -0.143772   \n",
       "2  0.247676 -1.514654  0.207643  0.624501  0.066084  0.717293 -0.165946   \n",
       "3  0.377436 -1.387024 -0.054952 -0.226487  0.178228  0.507757 -0.287924   \n",
       "4 -0.270533  0.817739  0.753074 -0.822843  0.538196  1.345852 -1.119670   \n",
       "\n",
       "        V15       V16       V17       V18       V19       V20       V21  \\\n",
       "0  1.468177 -0.470401  0.207971  0.025791  0.403993  0.251412 -0.018307   \n",
       "1  0.635558  0.463917 -0.114805 -0.183361 -0.145783 -0.069083 -0.225775   \n",
       "2  2.345865 -2.890083  1.109969 -0.121359 -2.261857  0.524980  0.247998   \n",
       "3 -0.631418 -1.059647 -0.684093  1.965775 -1.232622 -0.208038 -0.108300   \n",
       "4  0.175121 -0.451449 -0.237033 -0.038195  0.803487  0.408542 -0.009431   \n",
       "\n",
       "        V22       V23       V24       V25       V26       V27       V28  \\\n",
       "0  0.277838 -0.110474  0.066928  0.128539 -0.189115  0.133558 -0.021053   \n",
       "1 -0.638672  0.101288 -0.339846  0.167170  0.125895 -0.008983  0.014724   \n",
       "2  0.771679  0.909412 -0.689281 -0.327642 -0.139097 -0.055353 -0.059752   \n",
       "3  0.005274 -0.190321 -1.175575  0.647376 -0.221929  0.062723  0.061458   \n",
       "4  0.798278 -0.137458  0.141267 -0.206010  0.502292  0.219422  0.215153   \n",
       "\n",
       "   Amount  Class  \n",
       "0  149.62      0  \n",
       "1    2.69      0  \n",
       "2  378.66      0  \n",
       "3  123.50      0  \n",
       "4   69.99      0  "
      ]
     },
     "execution_count": 70,
     "metadata": {},
     "output_type": "execute_result"
    }
   ],
   "source": [
    "df.head()"
   ]
  },
  {
   "cell_type": "code",
   "execution_count": 71,
   "id": "7ff46a9e",
   "metadata": {
    "execution": {
     "iopub.execute_input": "2024-03-08T12:38:22.708546Z",
     "iopub.status.busy": "2024-03-08T12:38:22.707540Z",
     "iopub.status.idle": "2024-03-08T12:38:22.723609Z",
     "shell.execute_reply": "2024-03-08T12:38:22.722407Z"
    },
    "papermill": {
     "duration": 0.046164,
     "end_time": "2024-03-08T12:38:22.725500",
     "exception": false,
     "start_time": "2024-03-08T12:38:22.679336",
     "status": "completed"
    },
    "tags": []
   },
   "outputs": [
    {
     "data": {
      "text/plain": [
       "Time      0\n",
       "V1        0\n",
       "V2        0\n",
       "V3        0\n",
       "V4        0\n",
       "V5        0\n",
       "V6        0\n",
       "V7        0\n",
       "V8        0\n",
       "V9        0\n",
       "V10       0\n",
       "V11       0\n",
       "V12       0\n",
       "V13       0\n",
       "V14       0\n",
       "V15       0\n",
       "V16       0\n",
       "V17       0\n",
       "V18       0\n",
       "V19       0\n",
       "V20       0\n",
       "V21       0\n",
       "V22       0\n",
       "V23       0\n",
       "V24       0\n",
       "V25       0\n",
       "V26       0\n",
       "V27       0\n",
       "V28       0\n",
       "Amount    0\n",
       "Class     0\n",
       "dtype: int64"
      ]
     },
     "execution_count": 71,
     "metadata": {},
     "output_type": "execute_result"
    }
   ],
   "source": [
    "df.isnull().sum()"
   ]
  },
  {
   "cell_type": "code",
   "execution_count": 72,
   "id": "e4431937",
   "metadata": {
    "execution": {
     "iopub.execute_input": "2024-03-08T12:38:22.781413Z",
     "iopub.status.busy": "2024-03-08T12:38:22.781046Z",
     "iopub.status.idle": "2024-03-08T12:38:22.793024Z",
     "shell.execute_reply": "2024-03-08T12:38:22.792018Z"
    },
    "papermill": {
     "duration": 0.042088,
     "end_time": "2024-03-08T12:38:22.794827",
     "exception": false,
     "start_time": "2024-03-08T12:38:22.752739",
     "status": "completed"
    },
    "tags": []
   },
   "outputs": [],
   "source": [
    "data = df.iloc[:, :-1]\n",
    "targets = df.iloc[:,-1]"
   ]
  },
  {
   "cell_type": "code",
   "execution_count": 73,
   "id": "8554ae36",
   "metadata": {
    "execution": {
     "iopub.execute_input": "2024-03-08T12:38:22.850147Z",
     "iopub.status.busy": "2024-03-08T12:38:22.849504Z",
     "iopub.status.idle": "2024-03-08T12:38:22.855491Z",
     "shell.execute_reply": "2024-03-08T12:38:22.853922Z"
    },
    "papermill": {
     "duration": 0.036378,
     "end_time": "2024-03-08T12:38:22.858029",
     "exception": false,
     "start_time": "2024-03-08T12:38:22.821651",
     "status": "completed"
    },
    "tags": []
   },
   "outputs": [
    {
     "name": "stdout",
     "output_type": "stream",
     "text": [
      "(284807, 30)\n",
      "(284807,)\n"
     ]
    }
   ],
   "source": [
    "print(data.shape)\n",
    "print(targets.shape)"
   ]
  },
  {
   "cell_type": "code",
   "execution_count": 74,
   "id": "75d7a7b5",
   "metadata": {
    "execution": {
     "iopub.execute_input": "2024-03-08T12:38:22.913695Z",
     "iopub.status.busy": "2024-03-08T12:38:22.913370Z",
     "iopub.status.idle": "2024-03-08T12:38:22.917938Z",
     "shell.execute_reply": "2024-03-08T12:38:22.916545Z"
    },
    "papermill": {
     "duration": 0.035662,
     "end_time": "2024-03-08T12:38:22.920507",
     "exception": false,
     "start_time": "2024-03-08T12:38:22.884845",
     "status": "completed"
    },
    "tags": []
   },
   "outputs": [],
   "source": [
    "from sklearn.model_selection import train_test_split"
   ]
  },
  {
   "cell_type": "code",
   "execution_count": 75,
   "id": "d67342bb",
   "metadata": {
    "execution": {
     "iopub.execute_input": "2024-03-08T12:38:22.977732Z",
     "iopub.status.busy": "2024-03-08T12:38:22.976129Z",
     "iopub.status.idle": "2024-03-08T12:38:23.054768Z",
     "shell.execute_reply": "2024-03-08T12:38:23.054019Z"
    },
    "papermill": {
     "duration": 0.109666,
     "end_time": "2024-03-08T12:38:23.057140",
     "exception": false,
     "start_time": "2024-03-08T12:38:22.947474",
     "status": "completed"
    },
    "tags": []
   },
   "outputs": [],
   "source": [
    "train_data, test_data, train_targets, test_targets = train_test_split(data, targets, test_size=.3)"
   ]
  },
  {
   "cell_type": "code",
   "execution_count": 76,
   "id": "c9718320",
   "metadata": {
    "execution": {
     "iopub.execute_input": "2024-03-08T12:38:23.113207Z",
     "iopub.status.busy": "2024-03-08T12:38:23.112248Z",
     "iopub.status.idle": "2024-03-08T12:38:23.168626Z",
     "shell.execute_reply": "2024-03-08T12:38:23.167283Z"
    },
    "papermill": {
     "duration": 0.087082,
     "end_time": "2024-03-08T12:38:23.171062",
     "exception": false,
     "start_time": "2024-03-08T12:38:23.083980",
     "status": "completed"
    },
    "tags": []
   },
   "outputs": [],
   "source": [
    "train_data, validation_data, train_targets, validation_targets = train_test_split(train_data, train_targets, test_size=.2)"
   ]
  },
  {
   "cell_type": "code",
   "execution_count": 77,
   "id": "c825a2fd",
   "metadata": {
    "execution": {
     "iopub.execute_input": "2024-03-08T12:38:23.226138Z",
     "iopub.status.busy": "2024-03-08T12:38:23.225781Z",
     "iopub.status.idle": "2024-03-08T12:38:23.287672Z",
     "shell.execute_reply": "2024-03-08T12:38:23.286656Z"
    },
    "papermill": {
     "duration": 0.091937,
     "end_time": "2024-03-08T12:38:23.289938",
     "exception": false,
     "start_time": "2024-03-08T12:38:23.198001",
     "status": "completed"
    },
    "tags": []
   },
   "outputs": [],
   "source": [
    "mean = np.mean(train_data)\n",
    "std = np.std(train_data)\n",
    "\n",
    "\n",
    "train_data -= mean\n",
    "train_data /= std\n",
    "\n",
    "validation_data -= mean\n",
    "validation_data /= std\n",
    "\n",
    "test_data -= mean\n",
    "test_data /= std"
   ]
  },
  {
   "cell_type": "code",
   "execution_count": 78,
   "id": "eff9ac87",
   "metadata": {
    "execution": {
     "iopub.execute_input": "2024-03-08T12:38:23.348429Z",
     "iopub.status.busy": "2024-03-08T12:38:23.347804Z",
     "iopub.status.idle": "2024-03-08T12:38:23.352050Z",
     "shell.execute_reply": "2024-03-08T12:38:23.351018Z"
    },
    "papermill": {
     "duration": 0.037314,
     "end_time": "2024-03-08T12:38:23.354332",
     "exception": false,
     "start_time": "2024-03-08T12:38:23.317018",
     "status": "completed"
    },
    "tags": []
   },
   "outputs": [],
   "source": [
    "from keras import models, layers"
   ]
  },
  {
   "cell_type": "code",
   "execution_count": 79,
   "id": "38e06d3b",
   "metadata": {
    "execution": {
     "iopub.execute_input": "2024-03-08T12:38:23.410849Z",
     "iopub.status.busy": "2024-03-08T12:38:23.410255Z",
     "iopub.status.idle": "2024-03-08T12:38:23.603097Z",
     "shell.execute_reply": "2024-03-08T12:38:23.601707Z"
    },
    "papermill": {
     "duration": 0.223911,
     "end_time": "2024-03-08T12:38:23.605421",
     "exception": false,
     "start_time": "2024-03-08T12:38:23.381510",
     "status": "completed"
    },
    "tags": []
   },
   "outputs": [],
   "source": [
    "model = models.Sequential()\n",
    "\n",
    "model.add(layers.Dense(10, input_shape=(train_data.shape[1],), activation='relu'))\n",
    "\n",
    "model.add(layers.Dense(8, activation='relu'))\n",
    "\n",
    "model.add(layers.Dense(6, activation='relu'))\n",
    "\n",
    "model.add(layers.Dense(1, activation='sigmoid'))"
   ]
  },
  {
   "cell_type": "code",
   "execution_count": 80,
   "id": "3d8ec01e",
   "metadata": {
    "execution": {
     "iopub.execute_input": "2024-03-08T12:38:23.660334Z",
     "iopub.status.busy": "2024-03-08T12:38:23.659942Z",
     "iopub.status.idle": "2024-03-08T12:38:23.676246Z",
     "shell.execute_reply": "2024-03-08T12:38:23.675394Z"
    },
    "papermill": {
     "duration": 0.046478,
     "end_time": "2024-03-08T12:38:23.678624",
     "exception": false,
     "start_time": "2024-03-08T12:38:23.632146",
     "status": "completed"
    },
    "tags": []
   },
   "outputs": [],
   "source": [
    "from sklearn.metrics import classification_report\n",
    "\n",
    "model.compile(optimizer='rmsprop', loss='binary_crossentropy')"
   ]
  },
  {
   "cell_type": "code",
   "execution_count": 81,
   "id": "7cbdac71",
   "metadata": {
    "execution": {
     "iopub.execute_input": "2024-03-08T12:38:23.733443Z",
     "iopub.status.busy": "2024-03-08T12:38:23.733002Z",
     "iopub.status.idle": "2024-03-08T12:46:29.274775Z",
     "shell.execute_reply": "2024-03-08T12:46:29.273648Z"
    },
    "papermill": {
     "duration": 485.571687,
     "end_time": "2024-03-08T12:46:29.277093",
     "exception": false,
     "start_time": "2024-03-08T12:38:23.705406",
     "status": "completed"
    },
    "tags": []
   },
   "outputs": [
    {
     "name": "stdout",
     "output_type": "stream",
     "text": [
      "Epoch 1/100\n",
      "2493/2493 [==============================] - 5s 2ms/step - loss: 2.4909\n",
      "Epoch 2/100\n",
      "2493/2493 [==============================] - 4s 2ms/step - loss: 1.5593\n",
      "Epoch 3/100\n",
      "2493/2493 [==============================] - 5s 2ms/step - loss: 0.7851\n",
      "Epoch 4/100\n",
      "2493/2493 [==============================] - 4s 2ms/step - loss: 0.0937\n",
      "Epoch 5/100\n",
      "2493/2493 [==============================] - 4s 2ms/step - loss: 0.0158\n",
      "Epoch 6/100\n",
      "2493/2493 [==============================] - 4s 2ms/step - loss: 0.0155\n",
      "Epoch 7/100\n",
      "2493/2493 [==============================] - 4s 2ms/step - loss: 0.0155\n",
      "Epoch 8/100\n",
      "2493/2493 [==============================] - 4s 2ms/step - loss: 0.0153\n",
      "Epoch 9/100\n",
      "2493/2493 [==============================] - 4s 2ms/step - loss: 0.0151\n",
      "Epoch 10/100\n",
      "2493/2493 [==============================] - 5s 2ms/step - loss: 0.0151\n",
      "Epoch 11/100\n",
      "2493/2493 [==============================] - 4s 2ms/step - loss: 0.0343\n",
      "Epoch 12/100\n",
      "2493/2493 [==============================] - 5s 2ms/step - loss: 0.0231\n",
      "Epoch 13/100\n",
      "2493/2493 [==============================] - 4s 2ms/step - loss: 0.0172\n",
      "Epoch 14/100\n",
      "2493/2493 [==============================] - 4s 2ms/step - loss: 0.0145\n",
      "Epoch 15/100\n",
      "2493/2493 [==============================] - 5s 2ms/step - loss: 0.0144\n",
      "Epoch 16/100\n",
      "2493/2493 [==============================] - 5s 2ms/step - loss: 0.0339\n",
      "Epoch 17/100\n",
      "2493/2493 [==============================] - 5s 2ms/step - loss: 0.0140\n",
      "Epoch 18/100\n",
      "2493/2493 [==============================] - 4s 2ms/step - loss: 0.0430\n",
      "Epoch 19/100\n",
      "2493/2493 [==============================] - 5s 2ms/step - loss: 0.0349\n",
      "Epoch 20/100\n",
      "2493/2493 [==============================] - 5s 2ms/step - loss: 0.0151\n",
      "Epoch 21/100\n",
      "2493/2493 [==============================] - 5s 2ms/step - loss: 0.0146\n",
      "Epoch 22/100\n",
      "2493/2493 [==============================] - 5s 2ms/step - loss: 0.0139\n",
      "Epoch 23/100\n",
      "2493/2493 [==============================] - 5s 2ms/step - loss: 0.0138\n",
      "Epoch 24/100\n",
      "2493/2493 [==============================] - 5s 2ms/step - loss: 0.0137\n",
      "Epoch 25/100\n",
      "2493/2493 [==============================] - 5s 2ms/step - loss: 0.0139\n",
      "Epoch 26/100\n",
      "2493/2493 [==============================] - 5s 2ms/step - loss: 0.0138\n",
      "Epoch 27/100\n",
      "2493/2493 [==============================] - 5s 2ms/step - loss: 0.0137\n",
      "Epoch 28/100\n",
      "2493/2493 [==============================] - 5s 2ms/step - loss: 0.0136\n",
      "Epoch 29/100\n",
      "2493/2493 [==============================] - 5s 2ms/step - loss: 0.0137\n",
      "Epoch 30/100\n",
      "2493/2493 [==============================] - 5s 2ms/step - loss: 0.0136\n",
      "Epoch 31/100\n",
      "2493/2493 [==============================] - 5s 2ms/step - loss: 0.0136\n",
      "Epoch 32/100\n",
      "2493/2493 [==============================] - 5s 2ms/step - loss: 0.0136\n",
      "Epoch 33/100\n",
      "2493/2493 [==============================] - 5s 2ms/step - loss: 0.0135\n",
      "Epoch 34/100\n",
      "2493/2493 [==============================] - 5s 2ms/step - loss: 0.0136\n",
      "Epoch 35/100\n",
      "2493/2493 [==============================] - 5s 2ms/step - loss: 0.0135\n",
      "Epoch 36/100\n",
      "2493/2493 [==============================] - 5s 2ms/step - loss: 0.0136\n",
      "Epoch 37/100\n",
      "2493/2493 [==============================] - 5s 2ms/step - loss: 0.0136\n",
      "Epoch 38/100\n",
      "2493/2493 [==============================] - 5s 2ms/step - loss: 0.0136\n",
      "Epoch 39/100\n",
      "2493/2493 [==============================] - 5s 2ms/step - loss: 0.0135\n",
      "Epoch 40/100\n",
      "2493/2493 [==============================] - 5s 2ms/step - loss: 0.0136\n",
      "Epoch 41/100\n",
      "2493/2493 [==============================] - 5s 2ms/step - loss: 0.0136\n",
      "Epoch 42/100\n",
      "2493/2493 [==============================] - 5s 2ms/step - loss: 0.0136\n",
      "Epoch 43/100\n",
      "2493/2493 [==============================] - 5s 2ms/step - loss: 0.0135\n",
      "Epoch 44/100\n",
      "2493/2493 [==============================] - 5s 2ms/step - loss: 0.0135\n",
      "Epoch 45/100\n",
      "2493/2493 [==============================] - 5s 2ms/step - loss: 0.0135\n",
      "Epoch 46/100\n",
      "2493/2493 [==============================] - 5s 2ms/step - loss: 0.0135\n",
      "Epoch 47/100\n",
      "2493/2493 [==============================] - 4s 2ms/step - loss: 0.0135\n",
      "Epoch 48/100\n",
      "2493/2493 [==============================] - 4s 2ms/step - loss: 0.0135\n",
      "Epoch 49/100\n",
      "2493/2493 [==============================] - 5s 2ms/step - loss: 0.0135\n",
      "Epoch 50/100\n",
      "2493/2493 [==============================] - 5s 2ms/step - loss: 0.0135\n",
      "Epoch 51/100\n",
      "2493/2493 [==============================] - 5s 2ms/step - loss: 0.0136\n",
      "Epoch 52/100\n",
      "2493/2493 [==============================] - 4s 2ms/step - loss: 0.0135\n",
      "Epoch 53/100\n",
      "2493/2493 [==============================] - 4s 2ms/step - loss: 0.0135\n",
      "Epoch 54/100\n",
      "2493/2493 [==============================] - 4s 2ms/step - loss: 0.0135\n",
      "Epoch 55/100\n",
      "2493/2493 [==============================] - 5s 2ms/step - loss: 0.0135\n",
      "Epoch 56/100\n",
      "2493/2493 [==============================] - 5s 2ms/step - loss: 0.0135\n",
      "Epoch 57/100\n",
      "2493/2493 [==============================] - 4s 2ms/step - loss: 0.0136\n",
      "Epoch 58/100\n",
      "2493/2493 [==============================] - 5s 2ms/step - loss: 0.0135\n",
      "Epoch 59/100\n",
      "2493/2493 [==============================] - 4s 2ms/step - loss: 0.0135\n",
      "Epoch 60/100\n",
      "2493/2493 [==============================] - 4s 2ms/step - loss: 0.0135\n",
      "Epoch 61/100\n",
      "2493/2493 [==============================] - 4s 2ms/step - loss: 0.0135\n",
      "Epoch 62/100\n",
      "2493/2493 [==============================] - 5s 2ms/step - loss: 0.0135\n",
      "Epoch 63/100\n",
      "2493/2493 [==============================] - 5s 2ms/step - loss: 0.0136\n",
      "Epoch 64/100\n",
      "2493/2493 [==============================] - 4s 2ms/step - loss: 0.0135\n",
      "Epoch 65/100\n",
      "2493/2493 [==============================] - 5s 2ms/step - loss: 0.0135\n",
      "Epoch 66/100\n",
      "2493/2493 [==============================] - 4s 2ms/step - loss: 0.0135\n",
      "Epoch 67/100\n",
      "2493/2493 [==============================] - 4s 2ms/step - loss: 0.0135\n",
      "Epoch 68/100\n",
      "2493/2493 [==============================] - 5s 2ms/step - loss: 0.0135\n",
      "Epoch 69/100\n",
      "2493/2493 [==============================] - 5s 2ms/step - loss: 0.0135\n",
      "Epoch 70/100\n",
      "2493/2493 [==============================] - 4s 2ms/step - loss: 0.0135\n",
      "Epoch 71/100\n",
      "2493/2493 [==============================] - 4s 2ms/step - loss: 0.0135\n",
      "Epoch 72/100\n",
      "2493/2493 [==============================] - 4s 2ms/step - loss: 0.0135\n",
      "Epoch 73/100\n",
      "2493/2493 [==============================] - 4s 2ms/step - loss: 0.0135\n",
      "Epoch 74/100\n",
      "2493/2493 [==============================] - 4s 2ms/step - loss: 0.0136\n",
      "Epoch 75/100\n",
      "2493/2493 [==============================] - 4s 2ms/step - loss: 0.0135\n",
      "Epoch 76/100\n",
      "2493/2493 [==============================] - 4s 2ms/step - loss: 0.0135\n",
      "Epoch 77/100\n",
      "2493/2493 [==============================] - 4s 2ms/step - loss: 0.0135\n",
      "Epoch 78/100\n",
      "2493/2493 [==============================] - 4s 2ms/step - loss: 0.0134\n",
      "Epoch 79/100\n",
      "2493/2493 [==============================] - 4s 2ms/step - loss: 0.0135\n",
      "Epoch 80/100\n",
      "2493/2493 [==============================] - 4s 2ms/step - loss: 0.0135\n",
      "Epoch 81/100\n",
      "2493/2493 [==============================] - 4s 2ms/step - loss: 0.0134\n",
      "Epoch 82/100\n",
      "2493/2493 [==============================] - 4s 2ms/step - loss: 0.0135\n",
      "Epoch 83/100\n",
      "2493/2493 [==============================] - 4s 2ms/step - loss: 0.0134\n",
      "Epoch 84/100\n",
      "2493/2493 [==============================] - 4s 2ms/step - loss: 0.0134\n",
      "Epoch 85/100\n",
      "2493/2493 [==============================] - 4s 2ms/step - loss: 0.0134\n",
      "Epoch 86/100\n",
      "2493/2493 [==============================] - 4s 2ms/step - loss: 0.0135\n",
      "Epoch 87/100\n",
      "2493/2493 [==============================] - 4s 2ms/step - loss: 0.0134\n",
      "Epoch 88/100\n",
      "2493/2493 [==============================] - 4s 2ms/step - loss: 0.0135\n",
      "Epoch 89/100\n",
      "2493/2493 [==============================] - 4s 2ms/step - loss: 0.0134\n",
      "Epoch 90/100\n",
      "2493/2493 [==============================] - 4s 2ms/step - loss: 0.0135\n",
      "Epoch 91/100\n",
      "2493/2493 [==============================] - 4s 2ms/step - loss: 0.0134\n",
      "Epoch 92/100\n",
      "2493/2493 [==============================] - 4s 2ms/step - loss: 0.0134\n",
      "Epoch 93/100\n",
      "2493/2493 [==============================] - 4s 2ms/step - loss: 0.0135\n",
      "Epoch 94/100\n",
      "2493/2493 [==============================] - 4s 2ms/step - loss: 0.0135\n",
      "Epoch 95/100\n",
      "2493/2493 [==============================] - 4s 2ms/step - loss: 0.0135\n",
      "Epoch 96/100\n",
      "2493/2493 [==============================] - 4s 2ms/step - loss: 0.0134\n",
      "Epoch 97/100\n",
      "2493/2493 [==============================] - 4s 2ms/step - loss: 0.0135\n",
      "Epoch 98/100\n",
      "2493/2493 [==============================] - 4s 2ms/step - loss: 0.0134\n",
      "Epoch 99/100\n",
      "2493/2493 [==============================] - 4s 2ms/step - loss: 0.0134\n",
      "Epoch 100/100\n",
      "2493/2493 [==============================] - 4s 2ms/step - loss: 0.0134\n"
     ]
    }
   ],
   "source": [
    "history = model.fit(train_data, train_targets, epochs=100, batch_size=64)"
   ]
  },
  {
   "cell_type": "code",
   "execution_count": 82,
   "id": "878f8e47",
   "metadata": {
    "execution": {
     "iopub.execute_input": "2024-03-08T12:46:30.427535Z",
     "iopub.status.busy": "2024-03-08T12:46:30.427137Z",
     "iopub.status.idle": "2024-03-08T12:46:42.156352Z",
     "shell.execute_reply": "2024-03-08T12:46:42.154836Z"
    },
    "papermill": {
     "duration": 12.340847,
     "end_time": "2024-03-08T12:46:42.159043",
     "exception": false,
     "start_time": "2024-03-08T12:46:29.818196",
     "status": "completed"
    },
    "tags": []
   },
   "outputs": [
    {
     "name": "stdout",
     "output_type": "stream",
     "text": [
      "1247/1247 [==============================] - 2s 1ms/step\n"
     ]
    }
   ],
   "source": [
    "val_predictions = model.predict(validation_data)"
   ]
  },
  {
   "cell_type": "code",
   "execution_count": 83,
   "id": "186dd9fe",
   "metadata": {
    "execution": {
     "iopub.execute_input": "2024-03-08T12:46:43.305688Z",
     "iopub.status.busy": "2024-03-08T12:46:43.304991Z",
     "iopub.status.idle": "2024-03-08T12:46:43.311405Z",
     "shell.execute_reply": "2024-03-08T12:46:43.310453Z"
    },
    "papermill": {
     "duration": 0.617695,
     "end_time": "2024-03-08T12:46:43.313191",
     "exception": false,
     "start_time": "2024-03-08T12:46:42.695496",
     "status": "completed"
    },
    "tags": []
   },
   "outputs": [
    {
     "data": {
      "text/plain": [
       "array([[0.00058779],\n",
       "       [0.00058785],\n",
       "       [0.00058776],\n",
       "       ...,\n",
       "       [0.00058709],\n",
       "       [0.00058697],\n",
       "       [0.00058742]], dtype=float32)"
      ]
     },
     "execution_count": 83,
     "metadata": {},
     "output_type": "execute_result"
    }
   ],
   "source": [
    "val_predictions"
   ]
  },
  {
   "cell_type": "code",
   "execution_count": 84,
   "id": "48656bd3",
   "metadata": {
    "execution": {
     "iopub.execute_input": "2024-03-08T12:46:44.383859Z",
     "iopub.status.busy": "2024-03-08T12:46:44.383204Z",
     "iopub.status.idle": "2024-03-08T12:46:44.390337Z",
     "shell.execute_reply": "2024-03-08T12:46:44.388684Z"
    },
    "papermill": {
     "duration": 0.549246,
     "end_time": "2024-03-08T12:46:44.392880",
     "exception": false,
     "start_time": "2024-03-08T12:46:43.843634",
     "status": "completed"
    },
    "tags": []
   },
   "outputs": [
    {
     "name": "stdout",
     "output_type": "stream",
     "text": [
      "Validation Accuracy: 0.9982444260527173\n"
     ]
    }
   ],
   "source": [
    "# Convert val_predictions to binary predictions based on the threshold\n",
    "# Define the threshold value\n",
    "threshold = 0.5  # You can adjust this threshold value according to your needs\n",
    "\n",
    "binary_val_predictions = (val_predictions > threshold).astype(int)\n",
    "\n",
    "# Assuming validation_targets is a pandas Series, extract the values to make it 1-dimensional\n",
    "validation_targets_array = validation_targets.values\n",
    "\n",
    "# Calculate accuracy\n",
    "accuracy = np.mean(binary_val_predictions.flatten() == validation_targets_array)\n",
    "print(\"Validation Accuracy:\", accuracy)\n",
    "\n"
   ]
  },
  {
   "cell_type": "code",
   "execution_count": 85,
   "id": "92873836",
   "metadata": {
    "execution": {
     "iopub.execute_input": "2024-03-08T12:46:45.531995Z",
     "iopub.status.busy": "2024-03-08T12:46:45.531523Z",
     "iopub.status.idle": "2024-03-08T12:47:09.706972Z",
     "shell.execute_reply": "2024-03-08T12:47:09.705685Z"
    },
    "papermill": {
     "duration": 24.714128,
     "end_time": "2024-03-08T12:47:09.708658",
     "exception": false,
     "start_time": "2024-03-08T12:46:44.994530",
     "status": "completed"
    },
    "tags": []
   },
   "outputs": [
    {
     "name": "stdout",
     "output_type": "stream",
     "text": [
      "2671/2671 [==============================] - 3s 960us/step\n",
      "Test Accuracy: 0.9983497770443454\n"
     ]
    }
   ],
   "source": [
    "# Assuming you have test data (test_data) and test targets (test_targets)\n",
    "# Convert test data to binary predictions\n",
    "test_predictions = model.predict(test_data)\n",
    "binary_test_predictions = (test_predictions > threshold).astype(int)\n",
    "\n",
    "# Assuming test_targets is a pandas Series, extract the values to make it 1-dimensional\n",
    "test_targets_array = test_targets.values\n",
    "\n",
    "# Calculate accuracy on test data\n",
    "test_accuracy = np.mean(binary_test_predictions.flatten() == test_targets_array)\n",
    "print(\"Test Accuracy:\", test_accuracy)\n"
   ]
  },
  {
   "cell_type": "code",
   "execution_count": 86,
   "id": "d10630cc",
   "metadata": {
    "execution": {
     "iopub.execute_input": "2024-03-08T12:47:10.852471Z",
     "iopub.status.busy": "2024-03-08T12:47:10.852069Z",
     "iopub.status.idle": "2024-03-08T12:47:11.026627Z",
     "shell.execute_reply": "2024-03-08T12:47:11.025211Z"
    },
    "papermill": {
     "duration": 0.782605,
     "end_time": "2024-03-08T12:47:11.028778",
     "exception": false,
     "start_time": "2024-03-08T12:47:10.246173",
     "status": "completed"
    },
    "tags": []
   },
   "outputs": [
    {
     "data": {
      "image/png": "[encoded data removed]",
      "text/plain": [
       "<Figure size 800x600 with 1 Axes>"
      ]
     },
     "metadata": {},
     "output_type": "display_data"
    }
   ],
   "source": [
    "import matplotlib.pyplot as plt\n",
    "\n",
    "# Define the accuracies and labels\n",
    "accuracies = [0.9983949038196274, 0.9983146659176293]\n",
    "labels = ['Validation Accuracy', 'Test Accuracy']\n",
    "\n",
    "# Plot the horizontal bar chart\n",
    "plt.figure(figsize=(8, 6))\n",
    "bars = plt.barh(labels, accuracies, color=['blue', 'green'])\n",
    "\n",
    "# Add accuracy values as labels on the bars\n",
    "for bar, accuracy in zip(bars, accuracies):\n",
    "    plt.text(bar.get_width() - 0.0005, bar.get_y() + bar.get_height() / 2, '{:.4f}'.format(accuracy),\n",
    "             va='center', ha='right', color='white', fontsize=12)\n",
    "\n",
    "plt.title('Validation and Test Accuracies for the Multi Layer Perceptron Model')\n",
    "plt.xlabel('Accuracy')\n",
    "plt.xlim(0.9975, 0.9986)  # Set x-axis limit to focus on the high accuracy range\n",
    "plt.grid(axis='x', linestyle='--', alpha=0.7)\n",
    "plt.show()\n",
    "\n"
   ]
  }
 ],
 "metadata": {
  "kaggle": {
   "accelerator": "none",
   "dataSources": [
    {
     "datasetId": 310,
     "sourceId": 23498,
     "sourceType": "datasetVersion"
    }
   ],
   "dockerImageVersionId": 30558,
   "isGpuEnabled": false,
   "isInternetEnabled": true,
   "language": "python",
   "sourceType": "notebook"
  },
  "kernelspec": {
   "display_name": "Python 3",
   "language": "python",
   "name": "python3"
  },
  "language_info": {
   "codemirror_mode": {
    "name": "ipython",
    "version": 3
   },
   "file_extension": ".py",
   "mimetype": "text/x-python",
   "name": "python",
   "nbconvert_exporter": "python",
   "pygments_lexer": "ipython3",
   "version": "3.10.12"
  },
  "papermill": {
   "default_parameters": {},
   "duration": 563.402897,
   "end_time": "2024-03-08T12:47:14.079454",
   "environment_variables": {},
   "exception": null,
   "input_path": "__notebook__.ipynb",
   "output_path": "__notebook__.ipynb",
   "parameters": {},
   "start_time": "2024-03-08T12:37:50.676557",
   "version": "2.4.0"
  }
 },
 "nbformat": 4,
 "nbformat_minor": 5
}
